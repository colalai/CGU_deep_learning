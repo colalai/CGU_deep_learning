{
  "cells": [
    {
      "cell_type": "markdown",
      "metadata": {
        "id": "view-in-github",
        "colab_type": "text"
      },
      "source": [
        "<a href=\"https://colab.research.google.com/github/colalai/CGU_deep_learning/blob/main/ch02.ipynb\" target=\"_parent\"><img src=\"https://colab.research.google.com/assets/colab-badge.svg\" alt=\"Open In Colab\"/></a>"
      ]
    },
    {
      "cell_type": "code",
      "execution_count": 1,
      "metadata": {
        "id": "fNCt46SbDiiE"
      },
      "outputs": [],
      "source": [
        "import numpy as np\n",
        "import tensorflow as tf\n",
        "import tensorflow.keras as keras\n",
        "from keras.models import Sequential\n",
        "from keras.layers import Dense"
      ]
    },
    {
      "cell_type": "code",
      "execution_count": 2,
      "metadata": {
        "id": "KzV-erhRDiiH"
      },
      "outputs": [],
      "source": [
        "(xr,yr), (xt,yt)= keras.datasets.mnist.load_data()"
      ]
    },
    {
      "cell_type": "code",
      "execution_count": 3,
      "metadata": {
        "id": "8-rwRPtYDiiJ",
        "colab": {
          "base_uri": "https://localhost:8080/"
        },
        "outputId": "785eec73-b2cb-4c88-d244-addb771beb28"
      },
      "outputs": [
        {
          "output_type": "execute_result",
          "data": {
            "text/plain": [
              "((60000, 28, 28), (60000,), (10000, 28, 28), (10000,))"
            ]
          },
          "metadata": {},
          "execution_count": 3
        }
      ],
      "source": [
        "xr.shape, yr.shape, xt.shape, yt.shape"
      ]
    },
    {
      "cell_type": "code",
      "execution_count": 4,
      "metadata": {
        "id": "LuSjbroqDiiK",
        "colab": {
          "base_uri": "https://localhost:8080/"
        },
        "outputId": "25e6c3ef-0086-42c7-ea5b-f88bf9731ef1"
      },
      "outputs": [
        {
          "output_type": "stream",
          "name": "stdout",
          "text": [
            "  0  0  0  0  0  0  0  0  0  0  0  0  0  0  0  0  0  0  0  0  0  0  0  0  0  0  0  0\n",
            "  0  0  0  0  0  0  0  0  0  0  0  0  0  0  0  0  0  0  0  0  0  0  0  0  0  0  0  0\n",
            "  0  0  0  0  0  0  0  0  0  0  0  0  0  0  0  0  0  0  0  0  0  0  0  0  0  0  0  0\n",
            "  0  0  0  0  0  0  0  0  0  0  0  0  0  0  0  0  0  0  0  0  0  0  0  0  0  0  0  0\n",
            "  0  0  0  0  0  0  0  0  0  0  0  0  0  0  0  0  0  0  0  0  0  0  0  0  0  0  0  0\n",
            "  0  0  0  0  0  0  0  0  0  0  0  0  3 18 18 18126136175 26166255247127  0  0  0  0\n",
            "  0  0  0  0  0  0  0  0 30 36 94154170253253253253253225172253242195 64  0  0  0  0\n",
            "  0  0  0  0  0  0  0 49238253253253253253253253253251 93 82 82 56 39  0  0  0  0  0\n",
            "  0  0  0  0  0  0  0 18219253253253253253198182247241  0  0  0  0  0  0  0  0  0  0\n",
            "  0  0  0  0  0  0  0  0 80156107253253205 11  0 43154  0  0  0  0  0  0  0  0  0  0\n",
            "  0  0  0  0  0  0  0  0  0 14  1154253 90  0  0  0  0  0  0  0  0  0  0  0  0  0  0\n",
            "  0  0  0  0  0  0  0  0  0  0  0139253190  2  0  0  0  0  0  0  0  0  0  0  0  0  0\n",
            "  0  0  0  0  0  0  0  0  0  0  0 11190253 70  0  0  0  0  0  0  0  0  0  0  0  0  0\n",
            "  0  0  0  0  0  0  0  0  0  0  0  0 35241225160108  1  0  0  0  0  0  0  0  0  0  0\n",
            "  0  0  0  0  0  0  0  0  0  0  0  0  0 81240253253119 25  0  0  0  0  0  0  0  0  0\n",
            "  0  0  0  0  0  0  0  0  0  0  0  0  0  0 45186253253150 27  0  0  0  0  0  0  0  0\n",
            "  0  0  0  0  0  0  0  0  0  0  0  0  0  0  0 16 93252253187  0  0  0  0  0  0  0  0\n",
            "  0  0  0  0  0  0  0  0  0  0  0  0  0  0  0  0  0249253249 64  0  0  0  0  0  0  0\n",
            "  0  0  0  0  0  0  0  0  0  0  0  0  0  0 46130183253253207  2  0  0  0  0  0  0  0\n",
            "  0  0  0  0  0  0  0  0  0  0  0  0 39148229253253253250182  0  0  0  0  0  0  0  0\n",
            "  0  0  0  0  0  0  0  0  0  0 24114221253253253253201 78  0  0  0  0  0  0  0  0  0\n",
            "  0  0  0  0  0  0  0  0 23 66213253253253253198 81  2  0  0  0  0  0  0  0  0  0  0\n",
            "  0  0  0  0  0  0 18171219253253253253195 80  9  0  0  0  0  0  0  0  0  0  0  0  0\n",
            "  0  0  0  0 55172226253253253253244133 11  0  0  0  0  0  0  0  0  0  0  0  0  0  0\n",
            "  0  0  0  0136253253253212135132 16  0  0  0  0  0  0  0  0  0  0  0  0  0  0  0  0\n",
            "  0  0  0  0  0  0  0  0  0  0  0  0  0  0  0  0  0  0  0  0  0  0  0  0  0  0  0  0\n",
            "  0  0  0  0  0  0  0  0  0  0  0  0  0  0  0  0  0  0  0  0  0  0  0  0  0  0  0  0\n",
            "  0  0  0  0  0  0  0  0  0  0  0  0  0  0  0  0  0  0  0  0  0  0  0  0  0  0  0  0\n"
          ]
        }
      ],
      "source": [
        "x= xr[0]\n",
        "#%%\n",
        "for i in range(28):\n",
        "    for j in range(28):\n",
        "        z= x[i,j]\n",
        "        print(f'{z:3d}', end='')\n",
        "    print()"
      ]
    },
    {
      "cell_type": "code",
      "execution_count": 5,
      "metadata": {
        "id": "_IMlJJe3DiiL",
        "colab": {
          "base_uri": "https://localhost:8080/",
          "height": 282
        },
        "outputId": "95b38b60-d22a-45c4-8dac-d30394b6f55a"
      },
      "outputs": [
        {
          "output_type": "execute_result",
          "data": {
            "text/plain": [
              "<matplotlib.image.AxesImage at 0x7f990009d990>"
            ]
          },
          "metadata": {},
          "execution_count": 5
        },
        {
          "output_type": "display_data",
          "data": {
            "text/plain": [
              "<Figure size 432x288 with 1 Axes>"
            ],
            "image/png": "[encoded data removed]"
          },
          "metadata": {
            "needs_background": "light"
          }
        }
      ],
      "source": [
        "import matplotlib.pyplot as pl\n",
        "pl.imshow(x)"
      ]
    },
    {
      "cell_type": "code",
      "execution_count": 6,
      "metadata": {
        "id": "VNt_jHovDiiM",
        "colab": {
          "base_uri": "https://localhost:8080/"
        },
        "outputId": "b7df234b-63bb-4e8d-d5e9-240f1f9c70c1"
      },
      "outputs": [
        {
          "output_type": "stream",
          "name": "stdout",
          "text": [
            "y = 5\n"
          ]
        }
      ],
      "source": [
        "y = yr[0]\n",
        "print('y = '+str(y))"
      ]
    },
    {
      "cell_type": "code",
      "execution_count": 7,
      "metadata": {
        "id": "EAgRsxEtDiiN"
      },
      "outputs": [],
      "source": [
        "\n",
        "xr1= xr.reshape(-1, 28*28) \n",
        "xt1= xt.reshape(-1, 28*28) "
      ]
    },
    {
      "cell_type": "code",
      "execution_count": 13,
      "metadata": {
        "id": "rTJZfRT7DiiV",
        "colab": {
          "base_uri": "https://localhost:8080/"
        },
        "outputId": "fb2e67de-fa36-4ef3-bcf7-95e2b7ae709f"
      },
      "outputs": [
        {
          "output_type": "stream",
          "name": "stdout",
          "text": [
            "Epoch 1/22\n",
            "600/600 [==============================] - 4s 6ms/step - loss: 0.2796 - accuracy: 0.9193\n",
            "Epoch 2/22\n",
            "600/600 [==============================] - 3s 6ms/step - loss: 0.1161 - accuracy: 0.9646\n",
            "Epoch 3/22\n",
            "600/600 [==============================] - 3s 6ms/step - loss: 0.0775 - accuracy: 0.9765\n",
            "Epoch 4/22\n",
            "600/600 [==============================] - 3s 6ms/step - loss: 0.0599 - accuracy: 0.9819\n",
            "Epoch 5/22\n",
            "600/600 [==============================] - 3s 6ms/step - loss: 0.0454 - accuracy: 0.9857\n",
            "Epoch 6/22\n",
            "600/600 [==============================] - 3s 6ms/step - loss: 0.0370 - accuracy: 0.9887\n",
            "Epoch 7/22\n",
            "600/600 [==============================] - 4s 6ms/step - loss: 0.0292 - accuracy: 0.9908\n",
            "Epoch 8/22\n",
            "600/600 [==============================] - 4s 6ms/step - loss: 0.0248 - accuracy: 0.9922\n",
            "Epoch 9/22\n",
            "600/600 [==============================] - 4s 6ms/step - loss: 0.0198 - accuracy: 0.9937\n",
            "Epoch 10/22\n",
            "600/600 [==============================] - 3s 6ms/step - loss: 0.0169 - accuracy: 0.9944\n",
            "Epoch 11/22\n",
            "600/600 [==============================] - 3s 6ms/step - loss: 0.0141 - accuracy: 0.9953\n",
            "Epoch 12/22\n",
            "600/600 [==============================] - 4s 6ms/step - loss: 0.0119 - accuracy: 0.9962\n",
            "Epoch 13/22\n",
            "600/600 [==============================] - 4s 6ms/step - loss: 0.0097 - accuracy: 0.9971\n",
            "Epoch 14/22\n",
            "600/600 [==============================] - 4s 6ms/step - loss: 0.0077 - accuracy: 0.9974\n",
            "Epoch 15/22\n",
            "600/600 [==============================] - 3s 6ms/step - loss: 0.0066 - accuracy: 0.9981\n",
            "Epoch 16/22\n",
            "600/600 [==============================] - 4s 7ms/step - loss: 0.0063 - accuracy: 0.9979\n",
            "Epoch 17/22\n",
            "600/600 [==============================] - 3s 6ms/step - loss: 0.0054 - accuracy: 0.9983\n",
            "Epoch 18/22\n",
            "600/600 [==============================] - 3s 6ms/step - loss: 0.0044 - accuracy: 0.9987\n",
            "Epoch 19/22\n",
            "600/600 [==============================] - 3s 6ms/step - loss: 0.0038 - accuracy: 0.9987\n",
            "Epoch 20/22\n",
            "600/600 [==============================] - 3s 5ms/step - loss: 0.0034 - accuracy: 0.9989\n",
            "Epoch 21/22\n",
            "600/600 [==============================] - 3s 6ms/step - loss: 0.0035 - accuracy: 0.9988\n",
            "Epoch 22/22\n",
            "600/600 [==============================] - 3s 6ms/step - loss: 0.0028 - accuracy: 0.9992\n",
            "313/313 [==============================] - 1s 2ms/step - loss: 0.1297 - accuracy: 0.9821\n"
          ]
        },
        {
          "output_type": "execute_result",
          "data": {
            "text/plain": [
              "[0.12972748279571533, 0.9821000099182129]"
            ]
          },
          "metadata": {},
          "execution_count": 13
        }
      ],
      "source": [
        "xr1= xr.reshape(-1,28*28) /255\n",
        "xt1= xt.reshape(-1,28*28) /255\n",
        "\n",
        "\n",
        "aModel= keras.Sequential([\n",
        "    keras.Input(28*28),\n",
        "    keras.layers.Dense(170, activation= 'relu'),   \n",
        "    keras.layers.Dense(70, activation= 'relu'), \n",
        "    keras.layers.Dense(10,  activation= 'softmax')\n",
        "    ])\n",
        "\n",
        "aModel.compile(\n",
        "    loss=     'sparse_categorical_crossentropy',\n",
        "    metrics= ['accuracy']\n",
        "    )\n",
        "\n",
        "aModel.fit(xr1, yr, \n",
        "           epochs= 22, \n",
        "           batch_size= 100)\n",
        "\n",
        "aModel.evaluate(xt1, yt)"
      ]
    },
    {
      "cell_type": "code",
      "execution_count": 14,
      "metadata": {
        "id": "uGKZpVp0Diia",
        "colab": {
          "base_uri": "https://localhost:8080/",
          "height": 677
        },
        "outputId": "365306e6-78eb-4dba-e1f5-83f134871395"
      },
      "outputs": [
        {
          "output_type": "stream",
          "name": "stdout",
          "text": [
            "Model: \"sequential_4\"\n",
            "_________________________________________________________________\n",
            " Layer (type)                Output Shape              Param #   \n",
            "=================================================================\n",
            " dense_12 (Dense)            (None, 170)               133450    \n",
            "                                                                 \n",
            " dense_13 (Dense)            (None, 70)                11970     \n",
            "                                                                 \n",
            " dense_14 (Dense)            (None, 10)                710       \n",
            "                                                                 \n",
            "=================================================================\n",
            "Total params: 146,130\n",
            "Trainable params: 146,130\n",
            "Non-trainable params: 0\n",
            "_________________________________________________________________\n"
          ]
        },
        {
          "output_type": "execute_result",
          "data": {
            "image/png": "[encoded data removed]",
            "text/plain": [
              "<IPython.core.display.Image object>"
            ]
          },
          "metadata": {},
          "execution_count": 14
        }
      ],
      "source": [
        "aModel.summary()\n",
        "\n",
        "keras.utils.plot_model(aModel, \n",
        "    show_shapes= True, \n",
        "    show_layer_activations= True)"
      ]
    }
  ],
  "metadata": {
    "language_info": {
      "name": "python"
    },
    "orig_nbformat": 4,
    "colab": {
      "provenance": [],
      "include_colab_link": true
    },
    "kernelspec": {
      "name": "python3",
      "display_name": "Python 3"
    }
  },
  "nbformat": 4,
  "nbformat_minor": 0
}