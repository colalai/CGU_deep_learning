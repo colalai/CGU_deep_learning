{
  "cells": [
    {
      "cell_type": "markdown",
      "metadata": {
        "id": "view-in-github",
        "colab_type": "text"
      },
      "source": [
        "<a href=\"https://colab.research.google.com/github/colalai/CGU_deep_learning/blob/main/chapter11_part03_transformer.ipynb\" target=\"_parent\"><img src=\"https://colab.research.google.com/assets/colab-badge.svg\" alt=\"Open In Colab\"/></a>"
      ]
    },
    {
      "cell_type": "markdown",
      "metadata": {
        "id": "9neRLoBYlFjk"
      },
      "source": [
        "This is a companion notebook for the book [Deep Learning with Python, Second Edition](https://www.manning.com/books/deep-learning-with-python-second-edition?a_aid=keras&a_bid=76564dff). For readability, it only contains runnable code blocks and section titles, and omits everything else in the book: text paragraphs, figures, and pseudocode.\n",
        "\n",
        "**If you want to be able to follow what's going on, I recommend reading the notebook side by side with your copy of the book.**\n",
        "\n",
        "This notebook was generated for TensorFlow 2.6."
      ]
    },
    {
      "cell_type": "markdown",
      "metadata": {
        "id": "_DztJiTPlFjo"
      },
      "source": [
        "## The Transformer architecture"
      ]
    },
    {
      "cell_type": "markdown",
      "metadata": {
        "id": "Tc7TW0polFjo"
      },
      "source": [
        "### Understanding self-attention"
      ]
    },
    {
      "cell_type": "markdown",
      "metadata": {
        "id": "s5y6FHr7lFjo"
      },
      "source": [
        "#### Generalized self-attention: the query-key-value model"
      ]
    },
    {
      "cell_type": "markdown",
      "metadata": {
        "id": "jMYOBpxMlFjo"
      },
      "source": [
        "### Multi-head attention"
      ]
    },
    {
      "cell_type": "markdown",
      "metadata": {
        "id": "TNuDfJnylFjp"
      },
      "source": [
        "### The Transformer encoder"
      ]
    },
    {
      "cell_type": "markdown",
      "metadata": {
        "id": "bagpOe6wlFjp"
      },
      "source": [
        "**Getting the data**"
      ]
    },
    {
      "cell_type": "code",
      "execution_count": 2,
      "metadata": {
        "id": "T9x-v2UGlFjp",
        "colab": {
          "base_uri": "https://localhost:8080/"
        },
        "outputId": "7829dbd9-553e-44eb-e4ef-fc76a3ac8e91"
      },
      "outputs": [
        {
          "output_type": "stream",
          "name": "stdout",
          "text": [
            "  % Total    % Received % Xferd  Average Speed   Time    Time     Time  Current\n",
            "                                 Dload  Upload   Total   Spent    Left  Speed\n",
            "100 80.2M  100 80.2M    0     0  50.3M      0  0:00:01  0:00:01 --:--:-- 50.3M\n"
          ]
        }
      ],
      "source": [
        "!curl -O https://ai.stanford.edu/~amaas/data/sentiment/aclImdb_v1.tar.gz\n",
        "!tar -xf aclImdb_v1.tar.gz\n",
        "!rm -r aclImdb/train/unsup"
      ]
    },
    {
      "cell_type": "markdown",
      "metadata": {
        "id": "xSLKl70alFjp"
      },
      "source": [
        "**Preparing the data**"
      ]
    },
    {
      "cell_type": "code",
      "execution_count": 3,
      "metadata": {
        "id": "SYwQApztlFjq",
        "colab": {
          "base_uri": "https://localhost:8080/"
        },
        "outputId": "2b6db83b-701c-4b90-c779-3480409e4dc7"
      },
      "outputs": [
        {
          "output_type": "stream",
          "name": "stdout",
          "text": [
            "Found 20000 files belonging to 2 classes.\n",
            "Found 5000 files belonging to 2 classes.\n",
            "Found 25000 files belonging to 2 classes.\n"
          ]
        }
      ],
      "source": [
        "import os, pathlib, shutil, random\n",
        "from tensorflow import keras\n",
        "batch_size = 32\n",
        "base_dir = pathlib.Path(\"aclImdb\")\n",
        "val_dir = base_dir / \"val\"\n",
        "train_dir = base_dir / \"train\"\n",
        "for category in (\"neg\", \"pos\"):\n",
        "    os.makedirs(val_dir / category)\n",
        "    files = os.listdir(train_dir / category)\n",
        "    random.Random(1337).shuffle(files)\n",
        "    num_val_samples = int(0.2 * len(files))\n",
        "    val_files = files[-num_val_samples:]\n",
        "    for fname in val_files:\n",
        "        shutil.move(train_dir / category / fname,\n",
        "                    val_dir / category / fname)\n",
        "\n",
        "train_ds = keras.utils.text_dataset_from_directory(\n",
        "    \"aclImdb/train\", batch_size=batch_size\n",
        ")\n",
        "val_ds = keras.utils.text_dataset_from_directory(\n",
        "    \"aclImdb/val\", batch_size=batch_size\n",
        ")\n",
        "test_ds = keras.utils.text_dataset_from_directory(\n",
        "    \"aclImdb/test\", batch_size=batch_size\n",
        ")\n",
        "text_only_train_ds = train_ds.map(lambda x, y: x)"
      ]
    },
    {
      "cell_type": "markdown",
      "metadata": {
        "id": "G3LcNYAnlFjq"
      },
      "source": [
        "**Vectorizing the data**"
      ]
    },
    {
      "cell_type": "code",
      "execution_count": 4,
      "metadata": {
        "id": "TtBXU4hBlFjq"
      },
      "outputs": [],
      "source": [
        "from tensorflow.keras import layers\n",
        "\n",
        "max_length = 600\n",
        "max_tokens = 20000\n",
        "text_vectorization = layers.TextVectorization(\n",
        "    max_tokens=max_tokens,\n",
        "    output_mode=\"int\",\n",
        "    output_sequence_length=max_length,\n",
        ")\n",
        "text_vectorization.adapt(text_only_train_ds)\n",
        "\n",
        "int_train_ds = train_ds.map(\n",
        "    lambda x, y: (text_vectorization(x), y),\n",
        "    num_parallel_calls=4)\n",
        "int_val_ds = val_ds.map(\n",
        "    lambda x, y: (text_vectorization(x), y),\n",
        "    num_parallel_calls=4)\n",
        "int_test_ds = test_ds.map(\n",
        "    lambda x, y: (text_vectorization(x), y),\n",
        "    num_parallel_calls=4)"
      ]
    },
    {
      "cell_type": "markdown",
      "metadata": {
        "id": "4PYeOmH-lFjq"
      },
      "source": [
        "**Transformer encoder implemented as a subclassed `Layer`**"
      ]
    },
    {
      "cell_type": "code",
      "execution_count": 5,
      "metadata": {
        "id": "5tT3XXXhlFjq"
      },
      "outputs": [],
      "source": [
        "import tensorflow as tf\n",
        "from tensorflow import keras\n",
        "from tensorflow.keras import layers\n",
        "\n",
        "class TransformerEncoder(layers.Layer):\n",
        "    def __init__(self, embed_dim, dense_dim, num_heads, **kwargs):\n",
        "        super().__init__(**kwargs)\n",
        "        self.embed_dim = embed_dim\n",
        "        self.dense_dim = dense_dim\n",
        "        self.num_heads = num_heads\n",
        "        self.attention = layers.MultiHeadAttention(\n",
        "            num_heads=num_heads, key_dim=embed_dim)\n",
        "        self.dense_proj = keras.Sequential(\n",
        "            [layers.Dense(dense_dim, activation=\"relu\"),\n",
        "             layers.Dense(embed_dim),]\n",
        "        )\n",
        "        self.layernorm_1 = layers.LayerNormalization()\n",
        "        self.layernorm_2 = layers.LayerNormalization()\n",
        "\n",
        "    def call(self, inputs, mask=None):\n",
        "        if mask is not None:\n",
        "            mask = mask[:, tf.newaxis, :]\n",
        "        attention_output = self.attention(\n",
        "            inputs, inputs, attention_mask=mask)\n",
        "        proj_input = self.layernorm_1(inputs + attention_output)\n",
        "        proj_output = self.dense_proj(proj_input)\n",
        "        return self.layernorm_2(proj_input + proj_output)\n",
        "\n",
        "    def get_config(self):\n",
        "        config = super().get_config()\n",
        "        config.update({\n",
        "            \"embed_dim\": self.embed_dim,\n",
        "            \"num_heads\": self.num_heads,\n",
        "            \"dense_dim\": self.dense_dim,\n",
        "        })\n",
        "        return config"
      ]
    },
    {
      "cell_type": "markdown",
      "metadata": {
        "id": "gEpvTchKlFjr"
      },
      "source": [
        "**Using the Transformer encoder for text classification**"
      ]
    },
    {
      "cell_type": "code",
      "execution_count": 6,
      "metadata": {
        "id": "PKNf0MwglFjr",
        "colab": {
          "base_uri": "https://localhost:8080/"
        },
        "outputId": "7858efea-a20b-492b-ae17-e046b0b9ef8c"
      },
      "outputs": [
        {
          "output_type": "stream",
          "name": "stdout",
          "text": [
            "Model: \"model\"\n",
            "_________________________________________________________________\n",
            " Layer (type)                Output Shape              Param #   \n",
            "=================================================================\n",
            " input_1 (InputLayer)        [(None, None)]            0         \n",
            "                                                                 \n",
            " embedding (Embedding)       (None, None, 256)         5120000   \n",
            "                                                                 \n",
            " transformer_encoder (Transf  (None, None, 256)        543776    \n",
            " ormerEncoder)                                                   \n",
            "                                                                 \n",
            " global_max_pooling1d (Globa  (None, 256)              0         \n",
            " lMaxPooling1D)                                                  \n",
            "                                                                 \n",
            " dropout (Dropout)           (None, 256)               0         \n",
            "                                                                 \n",
            " dense_2 (Dense)             (None, 1)                 257       \n",
            "                                                                 \n",
            "=================================================================\n",
            "Total params: 5,664,033\n",
            "Trainable params: 5,664,033\n",
            "Non-trainable params: 0\n",
            "_________________________________________________________________\n"
          ]
        }
      ],
      "source": [
        "vocab_size = 20000\n",
        "embed_dim = 256\n",
        "num_heads = 2\n",
        "dense_dim = 32\n",
        "\n",
        "inputs = keras.Input(shape=(None,), dtype=\"int64\")\n",
        "x = layers.Embedding(vocab_size, embed_dim)(inputs)\n",
        "x = TransformerEncoder(embed_dim, dense_dim, num_heads)(x)\n",
        "x = layers.GlobalMaxPooling1D()(x)\n",
        "x = layers.Dropout(0.5)(x)\n",
        "outputs = layers.Dense(1, activation=\"sigmoid\")(x)\n",
        "model = keras.Model(inputs, outputs)\n",
        "model.compile(optimizer=\"rmsprop\",\n",
        "              loss=\"binary_crossentropy\",\n",
        "              metrics=[\"accuracy\"])\n",
        "model.summary()"
      ]
    },
    {
      "cell_type": "markdown",
      "metadata": {
        "id": "WifyAjWLlFjr"
      },
      "source": [
        "**Training and evaluating the Transformer encoder based model**"
      ]
    },
    {
      "cell_type": "code",
      "execution_count": 7,
      "metadata": {
        "id": "bm_1Ia0glFjr",
        "colab": {
          "base_uri": "https://localhost:8080/"
        },
        "outputId": "0ee5c885-ed53-40c6-a7da-97b2df4d2743"
      },
      "outputs": [
        {
          "output_type": "stream",
          "name": "stdout",
          "text": [
            "Epoch 1/20\n",
            "625/625 [==============================] - 48s 68ms/step - loss: 0.4846 - accuracy: 0.7750 - val_loss: 0.4928 - val_accuracy: 0.7882\n",
            "Epoch 2/20\n",
            "625/625 [==============================] - 42s 67ms/step - loss: 0.3174 - accuracy: 0.8661 - val_loss: 0.3609 - val_accuracy: 0.8434\n",
            "Epoch 3/20\n",
            "625/625 [==============================] - 42s 67ms/step - loss: 0.2531 - accuracy: 0.8980 - val_loss: 0.2853 - val_accuracy: 0.8858\n",
            "Epoch 4/20\n",
            "625/625 [==============================] - 43s 69ms/step - loss: 0.2026 - accuracy: 0.9212 - val_loss: 0.2593 - val_accuracy: 0.8962\n",
            "Epoch 5/20\n",
            "625/625 [==============================] - 43s 69ms/step - loss: 0.1648 - accuracy: 0.9382 - val_loss: 0.2999 - val_accuracy: 0.8972\n",
            "Epoch 6/20\n",
            "625/625 [==============================] - 42s 67ms/step - loss: 0.1376 - accuracy: 0.9509 - val_loss: 0.4045 - val_accuracy: 0.8632\n",
            "Epoch 7/20\n",
            "625/625 [==============================] - 42s 67ms/step - loss: 0.1204 - accuracy: 0.9549 - val_loss: 0.4053 - val_accuracy: 0.8846\n",
            "Epoch 8/20\n",
            "625/625 [==============================] - 42s 67ms/step - loss: 0.1029 - accuracy: 0.9636 - val_loss: 0.4066 - val_accuracy: 0.8746\n",
            "Epoch 9/20\n",
            "625/625 [==============================] - 42s 67ms/step - loss: 0.0880 - accuracy: 0.9686 - val_loss: 0.4033 - val_accuracy: 0.8774\n",
            "Epoch 10/20\n",
            "625/625 [==============================] - 42s 67ms/step - loss: 0.0760 - accuracy: 0.9729 - val_loss: 0.4786 - val_accuracy: 0.8728\n",
            "Epoch 11/20\n",
            "625/625 [==============================] - 42s 67ms/step - loss: 0.0657 - accuracy: 0.9776 - val_loss: 0.4449 - val_accuracy: 0.8622\n",
            "Epoch 12/20\n",
            "625/625 [==============================] - 42s 67ms/step - loss: 0.0566 - accuracy: 0.9806 - val_loss: 0.5103 - val_accuracy: 0.8774\n",
            "Epoch 13/20\n",
            "625/625 [==============================] - 42s 67ms/step - loss: 0.0467 - accuracy: 0.9843 - val_loss: 0.5385 - val_accuracy: 0.8716\n",
            "Epoch 14/20\n",
            "625/625 [==============================] - 42s 67ms/step - loss: 0.0394 - accuracy: 0.9865 - val_loss: 0.6008 - val_accuracy: 0.8722\n",
            "Epoch 15/20\n",
            "625/625 [==============================] - 42s 67ms/step - loss: 0.0347 - accuracy: 0.9873 - val_loss: 0.7219 - val_accuracy: 0.8586\n",
            "Epoch 16/20\n",
            "625/625 [==============================] - 42s 67ms/step - loss: 0.0290 - accuracy: 0.9902 - val_loss: 0.7832 - val_accuracy: 0.8560\n",
            "Epoch 17/20\n",
            "625/625 [==============================] - 42s 67ms/step - loss: 0.0246 - accuracy: 0.9923 - val_loss: 1.0663 - val_accuracy: 0.8548\n",
            "Epoch 18/20\n",
            "625/625 [==============================] - 42s 67ms/step - loss: 0.0225 - accuracy: 0.9930 - val_loss: 0.7711 - val_accuracy: 0.8572\n",
            "Epoch 19/20\n",
            "625/625 [==============================] - 42s 67ms/step - loss: 0.0202 - accuracy: 0.9931 - val_loss: 1.1810 - val_accuracy: 0.8470\n",
            "Epoch 20/20\n",
            "625/625 [==============================] - 42s 67ms/step - loss: 0.0173 - accuracy: 0.9951 - val_loss: 1.0703 - val_accuracy: 0.8620\n",
            "782/782 [==============================] - 18s 23ms/step - loss: 0.2969 - accuracy: 0.8799\n",
            "Test acc: 0.880\n"
          ]
        }
      ],
      "source": [
        "callbacks = [\n",
        "    keras.callbacks.ModelCheckpoint(\"transformer_encoder.keras\",\n",
        "                                    save_best_only=True)\n",
        "]\n",
        "model.fit(int_train_ds, validation_data=int_val_ds, epochs=20, callbacks=callbacks)\n",
        "model = keras.models.load_model(\n",
        "    \"transformer_encoder.keras\",\n",
        "    custom_objects={\"TransformerEncoder\": TransformerEncoder})\n",
        "print(f\"Test acc: {model.evaluate(int_test_ds)[1]:.3f}\")"
      ]
    },
    {
      "cell_type": "markdown",
      "metadata": {
        "id": "EceYtB_FlFjr"
      },
      "source": [
        "#### Using positional encoding to re-inject order information"
      ]
    },
    {
      "cell_type": "markdown",
      "metadata": {
        "id": "vT6hg_mYlFjr"
      },
      "source": [
        "**Implementing positional embedding as a subclassed layer**"
      ]
    },
    {
      "cell_type": "code",
      "execution_count": 8,
      "metadata": {
        "id": "GHuoTz2xlFjr"
      },
      "outputs": [],
      "source": [
        "class PositionalEmbedding(layers.Layer):\n",
        "    def __init__(self, sequence_length, input_dim, output_dim, **kwargs):\n",
        "        super().__init__(**kwargs)\n",
        "        self.token_embeddings = layers.Embedding(\n",
        "            input_dim=input_dim, output_dim=output_dim)\n",
        "        self.position_embeddings = layers.Embedding(\n",
        "            input_dim=sequence_length, output_dim=output_dim)\n",
        "        self.sequence_length = sequence_length\n",
        "        self.input_dim = input_dim\n",
        "        self.output_dim = output_dim\n",
        "\n",
        "    def call(self, inputs):\n",
        "        length = tf.shape(inputs)[-1]\n",
        "        positions = tf.range(start=0, limit=length, delta=1)\n",
        "        embedded_tokens = self.token_embeddings(inputs)\n",
        "        embedded_positions = self.position_embeddings(positions)\n",
        "        return embedded_tokens + embedded_positions\n",
        "\n",
        "    def compute_mask(self, inputs, mask=None):\n",
        "        return tf.math.not_equal(inputs, 0)\n",
        "\n",
        "    def get_config(self):\n",
        "        config = super().get_config()\n",
        "        config.update({\n",
        "            \"output_dim\": self.output_dim,\n",
        "            \"sequence_length\": self.sequence_length,\n",
        "            \"input_dim\": self.input_dim,\n",
        "        })\n",
        "        return config"
      ]
    },
    {
      "cell_type": "markdown",
      "metadata": {
        "id": "W9npgk2LlFjs"
      },
      "source": [
        "#### Putting it all together: A text-classification Transformer"
      ]
    },
    {
      "cell_type": "markdown",
      "metadata": {
        "id": "nMZcrwgGlFjs"
      },
      "source": [
        "**Combining the Transformer encoder with positional embedding**"
      ]
    },
    {
      "cell_type": "code",
      "execution_count": 9,
      "metadata": {
        "id": "kskCedp2lFjs",
        "colab": {
          "base_uri": "https://localhost:8080/"
        },
        "outputId": "22221373-9a47-4017-839b-26f3a8537d22"
      },
      "outputs": [
        {
          "output_type": "stream",
          "name": "stdout",
          "text": [
            "Model: \"model_1\"\n",
            "_________________________________________________________________\n",
            " Layer (type)                Output Shape              Param #   \n",
            "=================================================================\n",
            " input_2 (InputLayer)        [(None, None)]            0         \n",
            "                                                                 \n",
            " positional_embedding (Posit  (None, None, 256)        5273600   \n",
            " ionalEmbedding)                                                 \n",
            "                                                                 \n",
            " transformer_encoder_1 (Tran  (None, None, 256)        543776    \n",
            " sformerEncoder)                                                 \n",
            "                                                                 \n",
            " global_max_pooling1d_1 (Glo  (None, 256)              0         \n",
            " balMaxPooling1D)                                                \n",
            "                                                                 \n",
            " dropout_1 (Dropout)         (None, 256)               0         \n",
            "                                                                 \n",
            " dense_7 (Dense)             (None, 1)                 257       \n",
            "                                                                 \n",
            "=================================================================\n",
            "Total params: 5,817,633\n",
            "Trainable params: 5,817,633\n",
            "Non-trainable params: 0\n",
            "_________________________________________________________________\n",
            "Epoch 1/20\n",
            "625/625 [==============================] - 44s 68ms/step - loss: 0.4704 - accuracy: 0.7865 - val_loss: 0.2679 - val_accuracy: 0.8902\n",
            "Epoch 2/20\n",
            "625/625 [==============================] - 42s 67ms/step - loss: 0.2343 - accuracy: 0.9115 - val_loss: 0.2511 - val_accuracy: 0.8992\n",
            "Epoch 3/20\n",
            "625/625 [==============================] - 42s 67ms/step - loss: 0.1752 - accuracy: 0.9352 - val_loss: 0.2640 - val_accuracy: 0.8926\n",
            "Epoch 4/20\n",
            "625/625 [==============================] - 43s 68ms/step - loss: 0.1456 - accuracy: 0.9467 - val_loss: 0.3174 - val_accuracy: 0.8920\n",
            "Epoch 5/20\n",
            "625/625 [==============================] - 42s 67ms/step - loss: 0.1254 - accuracy: 0.9563 - val_loss: 0.3766 - val_accuracy: 0.8712\n",
            "Epoch 6/20\n",
            "625/625 [==============================] - 43s 69ms/step - loss: 0.1079 - accuracy: 0.9639 - val_loss: 0.3598 - val_accuracy: 0.8856\n",
            "Epoch 7/20\n",
            "625/625 [==============================] - 42s 67ms/step - loss: 0.0973 - accuracy: 0.9678 - val_loss: 0.4436 - val_accuracy: 0.8700\n",
            "Epoch 8/20\n",
            "625/625 [==============================] - 42s 67ms/step - loss: 0.0854 - accuracy: 0.9713 - val_loss: 0.4630 - val_accuracy: 0.8624\n",
            "Epoch 9/20\n",
            "625/625 [==============================] - 43s 68ms/step - loss: 0.0794 - accuracy: 0.9735 - val_loss: 0.3387 - val_accuracy: 0.8844\n",
            "Epoch 10/20\n",
            "625/625 [==============================] - 43s 68ms/step - loss: 0.0707 - accuracy: 0.9773 - val_loss: 0.3994 - val_accuracy: 0.8796\n",
            "Epoch 11/20\n",
            "625/625 [==============================] - 42s 68ms/step - loss: 0.0624 - accuracy: 0.9779 - val_loss: 0.4737 - val_accuracy: 0.8824\n",
            "Epoch 12/20\n",
            "625/625 [==============================] - 42s 68ms/step - loss: 0.0553 - accuracy: 0.9811 - val_loss: 0.5054 - val_accuracy: 0.8708\n",
            "Epoch 13/20\n",
            "625/625 [==============================] - 42s 68ms/step - loss: 0.0515 - accuracy: 0.9827 - val_loss: 0.5612 - val_accuracy: 0.8746\n",
            "Epoch 14/20\n",
            "625/625 [==============================] - 42s 67ms/step - loss: 0.0475 - accuracy: 0.9843 - val_loss: 1.0731 - val_accuracy: 0.8252\n",
            "Epoch 15/20\n",
            "625/625 [==============================] - 42s 68ms/step - loss: 0.0425 - accuracy: 0.9853 - val_loss: 0.6074 - val_accuracy: 0.8702\n",
            "Epoch 16/20\n",
            "625/625 [==============================] - 43s 68ms/step - loss: 0.0421 - accuracy: 0.9859 - val_loss: 0.4712 - val_accuracy: 0.8734\n",
            "Epoch 17/20\n",
            "625/625 [==============================] - 43s 69ms/step - loss: 0.0369 - accuracy: 0.9876 - val_loss: 0.6490 - val_accuracy: 0.8734\n",
            "Epoch 18/20\n",
            "625/625 [==============================] - 42s 67ms/step - loss: 0.0367 - accuracy: 0.9886 - val_loss: 0.7071 - val_accuracy: 0.8672\n",
            "Epoch 19/20\n",
            "625/625 [==============================] - 43s 68ms/step - loss: 0.0314 - accuracy: 0.9900 - val_loss: 0.6487 - val_accuracy: 0.8746\n",
            "Epoch 20/20\n",
            "625/625 [==============================] - 43s 68ms/step - loss: 0.0286 - accuracy: 0.9916 - val_loss: 0.6927 - val_accuracy: 0.8716\n",
            "782/782 [==============================] - 26s 33ms/step - loss: 0.2781 - accuracy: 0.8862\n",
            "Test acc: 0.886\n"
          ]
        }
      ],
      "source": [
        "vocab_size = 20000\n",
        "sequence_length = 600\n",
        "embed_dim = 256\n",
        "num_heads = 2\n",
        "dense_dim = 32\n",
        "\n",
        "inputs = keras.Input(shape=(None,), dtype=\"int64\")\n",
        "x = PositionalEmbedding(sequence_length, vocab_size, embed_dim)(inputs)\n",
        "x = TransformerEncoder(embed_dim, dense_dim, num_heads)(x)\n",
        "x = layers.GlobalMaxPooling1D()(x)\n",
        "x = layers.Dropout(0.5)(x)\n",
        "outputs = layers.Dense(1, activation=\"sigmoid\")(x)\n",
        "model = keras.Model(inputs, outputs)\n",
        "model.compile(optimizer=\"rmsprop\",\n",
        "              loss=\"binary_crossentropy\",\n",
        "              metrics=[\"accuracy\"])\n",
        "model.summary()\n",
        "\n",
        "callbacks = [\n",
        "    keras.callbacks.ModelCheckpoint(\"full_transformer_encoder.keras\",\n",
        "                                    save_best_only=True)\n",
        "]\n",
        "model.fit(int_train_ds, validation_data=int_val_ds, epochs=20, callbacks=callbacks)\n",
        "model = keras.models.load_model(\n",
        "    \"full_transformer_encoder.keras\",\n",
        "    custom_objects={\"TransformerEncoder\": TransformerEncoder,\n",
        "                    \"PositionalEmbedding\": PositionalEmbedding})\n",
        "print(f\"Test acc: {model.evaluate(int_test_ds)[1]:.3f}\")"
      ]
    },
    {
      "cell_type": "markdown",
      "metadata": {
        "id": "SgWDMo2llFjs"
      },
      "source": [
        "### When to use sequence models over bag-of-words models?"
      ]
    }
  ],
  "metadata": {
    "colab": {
      "provenance": [],
      "include_colab_link": true
    },
    "kernelspec": {
      "display_name": "Python 3",
      "language": "python",
      "name": "python3"
    },
    "language_info": {
      "codemirror_mode": {
        "name": "ipython",
        "version": 3
      },
      "file_extension": ".py",
      "mimetype": "text/x-python",
      "name": "python",
      "nbconvert_exporter": "python",
      "pygments_lexer": "ipython3",
      "version": "3.7.0"
    },
    "accelerator": "GPU",
    "gpuClass": "standard"
  },
  "nbformat": 4,
  "nbformat_minor": 0
}
