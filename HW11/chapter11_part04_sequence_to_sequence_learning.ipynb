{
  "cells": [
    {
      "cell_type": "markdown",
      "metadata": {
        "id": "view-in-github",
        "colab_type": "text"
      },
      "source": [
        "<a href=\"https://colab.research.google.com/github/colalai/CGU_deep_learning/blob/main/chapter11_part04_sequence_to_sequence_learning.ipynb\" target=\"_parent\"><img src=\"https://colab.research.google.com/assets/colab-badge.svg\" alt=\"Open In Colab\"/></a>"
      ]
    },
    {
      "cell_type": "markdown",
      "metadata": {
        "id": "xVwbtUVKu_br"
      },
      "source": [
        "This is a companion notebook for the book [Deep Learning with Python, Second Edition](https://www.manning.com/books/deep-learning-with-python-second-edition?a_aid=keras&a_bid=76564dff). For readability, it only contains runnable code blocks and section titles, and omits everything else in the book: text paragraphs, figures, and pseudocode.\n",
        "\n",
        "**If you want to be able to follow what's going on, I recommend reading the notebook side by side with your copy of the book.**\n",
        "\n",
        "This notebook was generated for TensorFlow 2.6."
      ]
    },
    {
      "cell_type": "markdown",
      "metadata": {
        "id": "jNbs7VpPu_bs"
      },
      "source": [
        "## Beyond text classification: Sequence-to-sequence learning"
      ]
    },
    {
      "cell_type": "markdown",
      "metadata": {
        "id": "0Ny8gojKu_bt"
      },
      "source": [
        "### A machine translation example"
      ]
    },
    {
      "cell_type": "code",
      "execution_count": 4,
      "metadata": {
        "id": "n7f6yFG0u_bt",
        "colab": {
          "base_uri": "https://localhost:8080/"
        },
        "outputId": "841f3e9a-87fb-497a-96fb-404485fe935e"
      },
      "outputs": [
        {
          "output_type": "stream",
          "name": "stdout",
          "text": [
            "--2022-12-06 12:54:22--  http://storage.googleapis.com/download.tensorflow.org/data/spa-eng.zip\n",
            "Resolving storage.googleapis.com (storage.googleapis.com)... 142.251.12.128, 74.125.200.128, 142.250.4.128, ...\n",
            "Connecting to storage.googleapis.com (storage.googleapis.com)|142.251.12.128|:80... connected.\n",
            "HTTP request sent, awaiting response... 200 OK\n",
            "Length: 2638744 (2.5M) [application/zip]\n",
            "Saving to: ‘spa-eng.zip’\n",
            "\n",
            "\rspa-eng.zip           0%[                    ]       0  --.-KB/s               \rspa-eng.zip         100%[===================>]   2.52M  --.-KB/s    in 0.01s   \n",
            "\n",
            "2022-12-06 12:54:22 (217 MB/s) - ‘spa-eng.zip’ saved [2638744/2638744]\n",
            "\n"
          ]
        }
      ],
      "source": [
        "!wget http://storage.googleapis.com/download.tensorflow.org/data/spa-eng.zip\n",
        "!unzip -q spa-eng.zip"
      ]
    },
    {
      "cell_type": "code",
      "execution_count": 5,
      "metadata": {
        "id": "woUxLumYu_bt"
      },
      "outputs": [],
      "source": [
        "text_file = \"spa-eng/spa.txt\"\n",
        "with open(text_file) as f:\n",
        "    lines = f.read().split(\"\\n\")[:-1]\n",
        "text_pairs = []\n",
        "for line in lines:\n",
        "    english, spanish = line.split(\"\\t\")\n",
        "    spanish = \"[start] \" + spanish + \" [end]\"\n",
        "    text_pairs.append((english, spanish))"
      ]
    },
    {
      "cell_type": "code",
      "execution_count": 6,
      "metadata": {
        "id": "NZMDAa1Hu_bu",
        "colab": {
          "base_uri": "https://localhost:8080/"
        },
        "outputId": "c9f6b1e3-fb04-4bcc-8497-9a449ff8e924"
      },
      "outputs": [
        {
          "output_type": "stream",
          "name": "stdout",
          "text": [
            "('They have decided to stick to the original plan after all.', '[start] Ellos han decidido apegarse al plan original después de todo. [end]')\n"
          ]
        }
      ],
      "source": [
        "import random\n",
        "print(random.choice(text_pairs))"
      ]
    },
    {
      "cell_type": "code",
      "execution_count": 7,
      "metadata": {
        "id": "SQ3-5v2vu_bu"
      },
      "outputs": [],
      "source": [
        "import random\n",
        "random.shuffle(text_pairs)\n",
        "num_val_samples = int(0.15 * len(text_pairs))\n",
        "num_train_samples = len(text_pairs) - 2 * num_val_samples\n",
        "train_pairs = text_pairs[:num_train_samples]\n",
        "val_pairs = text_pairs[num_train_samples:num_train_samples + num_val_samples]\n",
        "test_pairs = text_pairs[num_train_samples + num_val_samples:]"
      ]
    },
    {
      "cell_type": "markdown",
      "metadata": {
        "id": "_9M_N2n6u_bu"
      },
      "source": [
        "**Vectorizing the English and Spanish text pairs**"
      ]
    },
    {
      "cell_type": "code",
      "execution_count": 8,
      "metadata": {
        "id": "WhgPJQDju_bu"
      },
      "outputs": [],
      "source": [
        "import tensorflow as tf\n",
        "import string\n",
        "import re\n",
        "from keras import layers\n",
        "\n",
        "strip_chars = string.punctuation + \"¿\"\n",
        "strip_chars = strip_chars.replace(\"[\", \"\")\n",
        "strip_chars = strip_chars.replace(\"]\", \"\")\n",
        "\n",
        "def custom_standardization(input_string):\n",
        "    lowercase = tf.strings.lower(input_string)\n",
        "    return tf.strings.regex_replace(\n",
        "        lowercase, f\"[{re.escape(strip_chars)}]\", \"\")\n",
        "\n",
        "vocab_size = 15000\n",
        "sequence_length = 20\n",
        "\n",
        "source_vectorization = layers.TextVectorization(\n",
        "    max_tokens=vocab_size,\n",
        "    output_mode=\"int\",\n",
        "    output_sequence_length=sequence_length,\n",
        ")\n",
        "target_vectorization = layers.TextVectorization(\n",
        "    max_tokens=vocab_size,\n",
        "    output_mode=\"int\",\n",
        "    output_sequence_length=sequence_length + 1,\n",
        "    standardize=custom_standardization,\n",
        ")\n",
        "train_english_texts = [pair[0] for pair in train_pairs]\n",
        "train_spanish_texts = [pair[1] for pair in train_pairs]\n",
        "source_vectorization.adapt(train_english_texts)\n",
        "target_vectorization.adapt(train_spanish_texts)"
      ]
    },
    {
      "cell_type": "markdown",
      "metadata": {
        "id": "LSBmg9MYu_bu"
      },
      "source": [
        "**Preparing datasets for the translation task**"
      ]
    },
    {
      "cell_type": "code",
      "execution_count": 9,
      "metadata": {
        "id": "lQLfw6uVu_bv"
      },
      "outputs": [],
      "source": [
        "batch_size = 64\n",
        "\n",
        "def format_dataset(eng, spa):\n",
        "    eng = source_vectorization(eng)\n",
        "    spa = target_vectorization(spa)\n",
        "    return ({\n",
        "        \"english\": eng,\n",
        "        \"spanish\": spa[:, :-1],\n",
        "    }, spa[:, 1:])\n",
        "\n",
        "def make_dataset(pairs):\n",
        "    eng_texts, spa_texts = zip(*pairs)\n",
        "    eng_texts = list(eng_texts)\n",
        "    spa_texts = list(spa_texts)\n",
        "    dataset = tf.data.Dataset.from_tensor_slices((eng_texts, spa_texts))\n",
        "    dataset = dataset.batch(batch_size)\n",
        "    dataset = dataset.map(format_dataset, num_parallel_calls=4)\n",
        "    return dataset.shuffle(2048).prefetch(16).cache()\n",
        "\n",
        "train_ds = make_dataset(train_pairs)\n",
        "val_ds = make_dataset(val_pairs)"
      ]
    },
    {
      "cell_type": "code",
      "execution_count": 10,
      "metadata": {
        "id": "iV3mz9n3u_bv",
        "colab": {
          "base_uri": "https://localhost:8080/"
        },
        "outputId": "a07f57d6-c143-4d2a-bf63-4094743570ee"
      },
      "outputs": [
        {
          "output_type": "stream",
          "name": "stdout",
          "text": [
            "inputs['english'].shape: (64, 20)\n",
            "inputs['spanish'].shape: (64, 20)\n",
            "targets.shape: (64, 20)\n"
          ]
        }
      ],
      "source": [
        "for inputs, targets in train_ds.take(1):\n",
        "    print(f\"inputs['english'].shape: {inputs['english'].shape}\")\n",
        "    print(f\"inputs['spanish'].shape: {inputs['spanish'].shape}\")\n",
        "    print(f\"targets.shape: {targets.shape}\")"
      ]
    },
    {
      "cell_type": "markdown",
      "metadata": {
        "id": "pe2351gEu_bv"
      },
      "source": [
        "### Sequence-to-sequence learning with RNNs"
      ]
    },
    {
      "cell_type": "markdown",
      "metadata": {
        "id": "CztxmIxyu_bv"
      },
      "source": [
        "**GRU-based encoder**"
      ]
    },
    {
      "cell_type": "code",
      "execution_count": 11,
      "metadata": {
        "id": "AuZGVFClu_bv"
      },
      "outputs": [],
      "source": [
        "from tensorflow import keras\n",
        "from tensorflow.keras import layers\n",
        "\n",
        "embed_dim = 256\n",
        "latent_dim = 1024\n",
        "\n",
        "source = keras.Input(shape=(None,), dtype=\"int64\", name=\"english\")\n",
        "x = layers.Embedding(vocab_size, embed_dim, mask_zero=True)(source)\n",
        "encoded_source = layers.Bidirectional(\n",
        "    layers.GRU(latent_dim), merge_mode=\"sum\")(x)"
      ]
    },
    {
      "cell_type": "markdown",
      "metadata": {
        "id": "LbPUjwSbu_bw"
      },
      "source": [
        "**GRU-based decoder and the end-to-end model**"
      ]
    },
    {
      "cell_type": "code",
      "execution_count": 12,
      "metadata": {
        "id": "_leEMGIku_bw"
      },
      "outputs": [],
      "source": [
        "past_target = keras.Input(shape=(None,), dtype=\"int64\", name=\"spanish\")\n",
        "x = layers.Embedding(vocab_size, embed_dim, mask_zero=True)(past_target)\n",
        "decoder_gru = layers.GRU(latent_dim, return_sequences=True)\n",
        "x = decoder_gru(x, initial_state=encoded_source)\n",
        "x = layers.Dropout(0.5)(x)\n",
        "target_next_step = layers.Dense(vocab_size, activation=\"softmax\")(x)\n",
        "seq2seq_rnn = keras.Model([source, past_target], target_next_step)"
      ]
    },
    {
      "cell_type": "markdown",
      "metadata": {
        "id": "aH_7BLdNu_bw"
      },
      "source": [
        "**Training our recurrent sequence-to-sequence model**"
      ]
    },
    {
      "cell_type": "code",
      "execution_count": 13,
      "metadata": {
        "id": "AwUKS0Wwu_bx",
        "colab": {
          "base_uri": "https://localhost:8080/"
        },
        "outputId": "c95ae448-2a91-4ec0-99b6-0f9bea1888ac"
      },
      "outputs": [
        {
          "output_type": "stream",
          "name": "stdout",
          "text": [
            "Epoch 1/15\n",
            "1302/1302 [==============================] - 134s 91ms/step - loss: 1.6264 - accuracy: 0.4204 - val_loss: 1.3147 - val_accuracy: 0.5093\n",
            "Epoch 2/15\n",
            "1302/1302 [==============================] - 116s 89ms/step - loss: 1.3087 - accuracy: 0.5291 - val_loss: 1.1596 - val_accuracy: 0.5683\n",
            "Epoch 3/15\n",
            "1302/1302 [==============================] - 116s 89ms/step - loss: 1.1687 - accuracy: 0.5775 - val_loss: 1.0788 - val_accuracy: 0.6016\n",
            "Epoch 4/15\n",
            "1302/1302 [==============================] - 116s 89ms/step - loss: 1.0792 - accuracy: 0.6092 - val_loss: 1.0401 - val_accuracy: 0.6210\n",
            "Epoch 5/15\n",
            "1302/1302 [==============================] - 116s 89ms/step - loss: 1.0342 - accuracy: 0.6328 - val_loss: 1.0305 - val_accuracy: 0.6304\n",
            "Epoch 6/15\n",
            "1302/1302 [==============================] - 116s 89ms/step - loss: 1.0047 - accuracy: 0.6505 - val_loss: 1.0231 - val_accuracy: 0.6367\n",
            "Epoch 7/15\n",
            "1302/1302 [==============================] - 116s 89ms/step - loss: 0.9851 - accuracy: 0.6645 - val_loss: 1.0249 - val_accuracy: 0.6386\n",
            "Epoch 8/15\n",
            "1302/1302 [==============================] - 116s 89ms/step - loss: 0.9706 - accuracy: 0.6745 - val_loss: 1.0311 - val_accuracy: 0.6406\n",
            "Epoch 9/15\n",
            "1302/1302 [==============================] - 116s 89ms/step - loss: 0.9608 - accuracy: 0.6822 - val_loss: 1.0327 - val_accuracy: 0.6423\n",
            "Epoch 10/15\n",
            "1302/1302 [==============================] - 116s 89ms/step - loss: 0.9532 - accuracy: 0.6885 - val_loss: 1.0344 - val_accuracy: 0.6434\n",
            "Epoch 11/15\n",
            "1302/1302 [==============================] - 116s 89ms/step - loss: 0.9475 - accuracy: 0.6928 - val_loss: 1.0359 - val_accuracy: 0.6454\n",
            "Epoch 12/15\n",
            "1302/1302 [==============================] - 116s 89ms/step - loss: 0.9430 - accuracy: 0.6966 - val_loss: 1.0370 - val_accuracy: 0.6464\n",
            "Epoch 13/15\n",
            "1302/1302 [==============================] - 116s 89ms/step - loss: 0.9397 - accuracy: 0.6987 - val_loss: 1.0399 - val_accuracy: 0.6457\n",
            "Epoch 14/15\n",
            "1302/1302 [==============================] - 116s 89ms/step - loss: 0.9383 - accuracy: 0.7000 - val_loss: 1.0432 - val_accuracy: 0.6452\n",
            "Epoch 15/15\n",
            "1302/1302 [==============================] - 116s 89ms/step - loss: 0.9379 - accuracy: 0.7009 - val_loss: 1.0464 - val_accuracy: 0.6449\n"
          ]
        },
        {
          "output_type": "execute_result",
          "data": {
            "text/plain": [
              "<keras.callbacks.History at 0x7f6efa3246d0>"
            ]
          },
          "metadata": {},
          "execution_count": 13
        }
      ],
      "source": [
        "seq2seq_rnn.compile(\n",
        "    optimizer=\"rmsprop\",\n",
        "    loss=\"sparse_categorical_crossentropy\",\n",
        "    metrics=[\"accuracy\"])\n",
        "seq2seq_rnn.fit(train_ds, epochs=15, validation_data=val_ds)"
      ]
    },
    {
      "cell_type": "markdown",
      "metadata": {
        "id": "7sDTQBRsu_bx"
      },
      "source": [
        "**Translating new sentences with our RNN encoder and decoder**"
      ]
    },
    {
      "cell_type": "code",
      "execution_count": 14,
      "metadata": {
        "id": "03eLxm1Au_bx",
        "colab": {
          "base_uri": "https://localhost:8080/"
        },
        "outputId": "dee8154e-7199-4eea-e979-2b539b0747d2"
      },
      "outputs": [
        {
          "output_type": "stream",
          "name": "stdout",
          "text": [
            "-\n",
            "Sit up straight.\n",
            "1/1 [==============================] - 3s 3s/step\n",
            "1/1 [==============================] - 0s 24ms/step\n",
            "1/1 [==============================] - 0s 21ms/step\n",
            "1/1 [==============================] - 0s 21ms/step\n",
            "1/1 [==============================] - 0s 21ms/step\n",
            "1/1 [==============================] - 0s 20ms/step\n",
            "[start] [UNK] la usted es [UNK] [end]\n",
            "-\n",
            "My life was in danger.\n",
            "1/1 [==============================] - 0s 20ms/step\n",
            "1/1 [==============================] - 0s 19ms/step\n",
            "1/1 [==============================] - 0s 21ms/step\n",
            "1/1 [==============================] - 0s 22ms/step\n",
            "1/1 [==============================] - 0s 19ms/step\n",
            "1/1 [==============================] - 0s 21ms/step\n",
            "[start] mi vida estaba en peligro [end]\n",
            "-\n",
            "Her father passed away last week.\n",
            "1/1 [==============================] - 0s 20ms/step\n",
            "1/1 [==============================] - 0s 20ms/step\n",
            "1/1 [==============================] - 0s 21ms/step\n",
            "1/1 [==============================] - 0s 21ms/step\n",
            "1/1 [==============================] - 0s 19ms/step\n",
            "1/1 [==============================] - 0s 21ms/step\n",
            "1/1 [==============================] - 0s 21ms/step\n",
            "[start] su padre murió la semana pasada [end]\n",
            "-\n",
            "He got the first prize.\n",
            "1/1 [==============================] - 0s 29ms/step\n",
            "1/1 [==============================] - 0s 21ms/step\n",
            "1/1 [==============================] - 0s 19ms/step\n",
            "1/1 [==============================] - 0s 20ms/step\n",
            "1/1 [==============================] - 0s 20ms/step\n",
            "1/1 [==============================] - 0s 21ms/step\n",
            "[start] Él fue el primer primer [end]\n",
            "-\n",
            "I'm allergic to aspirin, penicillin, and sulfamides.\n",
            "1/1 [==============================] - 0s 20ms/step\n",
            "1/1 [==============================] - 0s 19ms/step\n",
            "1/1 [==============================] - 0s 19ms/step\n",
            "1/1 [==============================] - 0s 19ms/step\n",
            "1/1 [==============================] - 0s 22ms/step\n",
            "1/1 [==============================] - 0s 19ms/step\n",
            "1/1 [==============================] - 0s 19ms/step\n",
            "1/1 [==============================] - 0s 21ms/step\n",
            "1/1 [==============================] - 0s 22ms/step\n",
            "1/1 [==============================] - 0s 21ms/step\n",
            "1/1 [==============================] - 0s 23ms/step\n",
            "1/1 [==============================] - 0s 20ms/step\n",
            "[start] soy el [UNK] a la y las [UNK] de la mañana [end]\n",
            "-\n",
            "Sign this.\n",
            "1/1 [==============================] - 0s 26ms/step\n",
            "1/1 [==============================] - 0s 20ms/step\n",
            "1/1 [==============================] - 0s 21ms/step\n",
            "[start] [UNK] esto [end]\n",
            "-\n",
            "Tom wanted Mary to talk to John about the problem she was having with his children.\n",
            "1/1 [==============================] - 0s 23ms/step\n",
            "1/1 [==============================] - 0s 23ms/step\n",
            "1/1 [==============================] - 0s 20ms/step\n",
            "1/1 [==============================] - 0s 22ms/step\n",
            "1/1 [==============================] - 0s 22ms/step\n",
            "1/1 [==============================] - 0s 23ms/step\n",
            "1/1 [==============================] - 0s 22ms/step\n",
            "1/1 [==============================] - 0s 22ms/step\n",
            "1/1 [==============================] - 0s 25ms/step\n",
            "1/1 [==============================] - 0s 35ms/step\n",
            "1/1 [==============================] - 0s 24ms/step\n",
            "1/1 [==============================] - 0s 26ms/step\n",
            "1/1 [==============================] - 0s 27ms/step\n",
            "1/1 [==============================] - 0s 25ms/step\n",
            "1/1 [==============================] - 0s 23ms/step\n",
            "1/1 [==============================] - 0s 26ms/step\n",
            "1/1 [==============================] - 0s 24ms/step\n",
            "[start] tom quería que mary con el [UNK] con john y john está [UNK] con sus hijos [end]\n",
            "-\n",
            "Do you have any non-alcoholic drinks?\n",
            "1/1 [==============================] - 0s 19ms/step\n",
            "1/1 [==============================] - 0s 22ms/step\n",
            "1/1 [==============================] - 0s 20ms/step\n",
            "1/1 [==============================] - 0s 22ms/step\n",
            "1/1 [==============================] - 0s 21ms/step\n",
            "[start] tienes alguna algún problema [end]\n",
            "-\n",
            "Do they sell notebooks at that store?\n",
            "1/1 [==============================] - 0s 21ms/step\n",
            "1/1 [==============================] - 0s 20ms/step\n",
            "1/1 [==============================] - 0s 22ms/step\n",
            "1/1 [==============================] - 0s 35ms/step\n",
            "1/1 [==============================] - 0s 21ms/step\n",
            "1/1 [==============================] - 0s 21ms/step\n",
            "1/1 [==============================] - 0s 23ms/step\n",
            "[start] ellos se [UNK] en esa tienda [end]\n",
            "-\n",
            "Tom didn't actually do anything.\n",
            "1/1 [==============================] - 0s 24ms/step\n",
            "1/1 [==============================] - 0s 19ms/step\n",
            "1/1 [==============================] - 0s 21ms/step\n",
            "1/1 [==============================] - 0s 23ms/step\n",
            "1/1 [==============================] - 0s 26ms/step\n",
            "1/1 [==============================] - 0s 25ms/step\n",
            "1/1 [==============================] - 0s 19ms/step\n",
            "1/1 [==============================] - 0s 23ms/step\n",
            "[start] tom no en nada de hacer nada [end]\n",
            "-\n",
            "We will take off in a few minutes.\n",
            "1/1 [==============================] - 0s 21ms/step\n",
            "1/1 [==============================] - 0s 20ms/step\n",
            "1/1 [==============================] - 0s 20ms/step\n",
            "1/1 [==============================] - 0s 20ms/step\n",
            "1/1 [==============================] - 0s 21ms/step\n",
            "[start] [UNK] en unos minutos [end]\n",
            "-\n",
            "I do not like mathematics very much.\n",
            "1/1 [==============================] - 0s 25ms/step\n",
            "1/1 [==============================] - 0s 23ms/step\n",
            "1/1 [==============================] - 0s 23ms/step\n",
            "1/1 [==============================] - 0s 22ms/step\n",
            "1/1 [==============================] - 0s 22ms/step\n",
            "1/1 [==============================] - 0s 24ms/step\n",
            "1/1 [==============================] - 0s 21ms/step\n",
            "1/1 [==============================] - 0s 32ms/step\n",
            "1/1 [==============================] - 0s 22ms/step\n",
            "1/1 [==============================] - 0s 21ms/step\n",
            "[start] no me gusta mucho la mucho de la gente [end]\n",
            "-\n",
            "There are almost seven billion people in the world.\n",
            "1/1 [==============================] - 0s 21ms/step\n",
            "1/1 [==============================] - 0s 23ms/step\n",
            "1/1 [==============================] - 0s 22ms/step\n",
            "1/1 [==============================] - 0s 23ms/step\n",
            "1/1 [==============================] - 0s 21ms/step\n",
            "1/1 [==============================] - 0s 22ms/step\n",
            "1/1 [==============================] - 0s 23ms/step\n",
            "1/1 [==============================] - 0s 23ms/step\n",
            "1/1 [==============================] - 0s 22ms/step\n",
            "1/1 [==============================] - 0s 22ms/step\n",
            "1/1 [==============================] - 0s 26ms/step\n",
            "1/1 [==============================] - 0s 24ms/step\n",
            "[start] casi hay casi las personas en el mundo después del mundo [end]\n",
            "-\n",
            "Crossing that desert is dangerous.\n",
            "1/1 [==============================] - 0s 23ms/step\n",
            "1/1 [==============================] - 0s 25ms/step\n",
            "1/1 [==============================] - 0s 21ms/step\n",
            "1/1 [==============================] - 0s 21ms/step\n",
            "1/1 [==============================] - 0s 20ms/step\n",
            "1/1 [==============================] - 0s 19ms/step\n",
            "1/1 [==============================] - 0s 20ms/step\n",
            "[start] ese lugar es que es peligroso [end]\n",
            "-\n",
            "Tom has a piano.\n",
            "1/1 [==============================] - 0s 18ms/step\n",
            "1/1 [==============================] - 0s 21ms/step\n",
            "1/1 [==============================] - 0s 23ms/step\n",
            "1/1 [==============================] - 0s 22ms/step\n",
            "1/1 [==============================] - 0s 19ms/step\n",
            "[start] tom tiene un piano [end]\n",
            "-\n",
            "Tom and Mary both enjoy playing basketball.\n",
            "1/1 [==============================] - 0s 22ms/step\n",
            "1/1 [==============================] - 0s 21ms/step\n",
            "1/1 [==============================] - 0s 22ms/step\n",
            "1/1 [==============================] - 0s 23ms/step\n",
            "1/1 [==============================] - 0s 23ms/step\n",
            "1/1 [==============================] - 0s 21ms/step\n",
            "1/1 [==============================] - 0s 22ms/step\n",
            "1/1 [==============================] - 0s 21ms/step\n",
            "1/1 [==============================] - 0s 21ms/step\n",
            "1/1 [==============================] - 0s 22ms/step\n",
            "1/1 [==============================] - 0s 22ms/step\n",
            "1/1 [==============================] - 0s 23ms/step\n",
            "[start] tom y mary están a los dos tom y el fútbol [end]\n",
            "-\n",
            "I know it's against the law.\n",
            "1/1 [==============================] - 0s 26ms/step\n",
            "1/1 [==============================] - 0s 21ms/step\n",
            "1/1 [==============================] - 0s 21ms/step\n",
            "1/1 [==============================] - 0s 22ms/step\n",
            "1/1 [==============================] - 0s 23ms/step\n",
            "1/1 [==============================] - 0s 23ms/step\n",
            "[start] sé que es la contra [end]\n",
            "-\n",
            "We will never know how he's feeling.\n",
            "1/1 [==============================] - 0s 21ms/step\n",
            "1/1 [==============================] - 0s 21ms/step\n",
            "1/1 [==============================] - 0s 25ms/step\n",
            "1/1 [==============================] - 0s 22ms/step\n",
            "1/1 [==============================] - 0s 21ms/step\n",
            "1/1 [==============================] - 0s 26ms/step\n",
            "1/1 [==============================] - 0s 20ms/step\n",
            "1/1 [==============================] - 0s 22ms/step\n",
            "[start] no se sabe cómo se está él [end]\n",
            "-\n",
            "What happened to Tom?\n",
            "1/1 [==============================] - 0s 22ms/step\n",
            "1/1 [==============================] - 0s 20ms/step\n",
            "1/1 [==============================] - 0s 21ms/step\n",
            "1/1 [==============================] - 0s 22ms/step\n",
            "1/1 [==============================] - 0s 23ms/step\n",
            "1/1 [==============================] - 0s 23ms/step\n",
            "[start] qué le pasó a tom [end]\n",
            "-\n",
            "Is that good or bad?\n",
            "1/1 [==============================] - 0s 20ms/step\n",
            "1/1 [==============================] - 0s 20ms/step\n",
            "1/1 [==============================] - 0s 19ms/step\n",
            "1/1 [==============================] - 0s 21ms/step\n",
            "1/1 [==============================] - 0s 30ms/step\n",
            "[start] es bueno o mal [end]\n"
          ]
        }
      ],
      "source": [
        "import numpy as np\n",
        "spa_vocab = target_vectorization.get_vocabulary()\n",
        "spa_index_lookup = dict(zip(range(len(spa_vocab)), spa_vocab))\n",
        "max_decoded_sentence_length = 20\n",
        "\n",
        "def decode_sequence(input_sentence):\n",
        "    tokenized_input_sentence = source_vectorization([input_sentence])\n",
        "    decoded_sentence = \"[start]\"\n",
        "    for i in range(max_decoded_sentence_length):\n",
        "        tokenized_target_sentence = target_vectorization([decoded_sentence])\n",
        "        next_token_predictions = seq2seq_rnn.predict(\n",
        "            [tokenized_input_sentence, tokenized_target_sentence])\n",
        "        sampled_token_index = np.argmax(next_token_predictions[0, i, :])\n",
        "        sampled_token = spa_index_lookup[sampled_token_index]\n",
        "        decoded_sentence += \" \" + sampled_token\n",
        "        if sampled_token == \"[end]\":\n",
        "            break\n",
        "    return decoded_sentence\n",
        "\n",
        "test_eng_texts = [pair[0] for pair in test_pairs]\n",
        "for _ in range(20):\n",
        "    input_sentence = random.choice(test_eng_texts)\n",
        "    print(\"-\")\n",
        "    print(input_sentence)\n",
        "    print(decode_sequence(input_sentence))"
      ]
    },
    {
      "cell_type": "markdown",
      "metadata": {
        "id": "YziNbkGmu_bx"
      },
      "source": [
        "### Sequence-to-sequence learning with Transformer"
      ]
    },
    {
      "cell_type": "markdown",
      "metadata": {
        "id": "Lm5pjJU7u_bx"
      },
      "source": [
        "#### The Transformer decoder"
      ]
    },
    {
      "cell_type": "markdown",
      "metadata": {
        "id": "5Jw_MWPQu_bx"
      },
      "source": [
        "**The `TransformerDecoder`**"
      ]
    },
    {
      "cell_type": "code",
      "execution_count": 15,
      "metadata": {
        "id": "V7PTkDwlu_bx"
      },
      "outputs": [],
      "source": [
        "class TransformerDecoder(layers.Layer):\n",
        "    def __init__(self, embed_dim, dense_dim, num_heads, **kwargs):\n",
        "        super().__init__(**kwargs)\n",
        "        self.embed_dim = embed_dim\n",
        "        self.dense_dim = dense_dim\n",
        "        self.num_heads = num_heads\n",
        "        self.attention_1 = layers.MultiHeadAttention(\n",
        "            num_heads=num_heads, key_dim=embed_dim)\n",
        "        self.attention_2 = layers.MultiHeadAttention(\n",
        "            num_heads=num_heads, key_dim=embed_dim)\n",
        "        self.dense_proj = keras.Sequential(\n",
        "            [layers.Dense(dense_dim, activation=\"relu\"),\n",
        "             layers.Dense(embed_dim),]\n",
        "        )\n",
        "        self.layernorm_1 = layers.LayerNormalization()\n",
        "        self.layernorm_2 = layers.LayerNormalization()\n",
        "        self.layernorm_3 = layers.LayerNormalization()\n",
        "        self.supports_masking = True\n",
        "\n",
        "    def get_config(self):\n",
        "        config = super().get_config()\n",
        "        config.update({\n",
        "            \"embed_dim\": self.embed_dim,\n",
        "            \"num_heads\": self.num_heads,\n",
        "            \"dense_dim\": self.dense_dim,\n",
        "        })\n",
        "        return config\n",
        "\n",
        "    def get_causal_attention_mask(self, inputs):\n",
        "        input_shape = tf.shape(inputs)\n",
        "        batch_size, sequence_length = input_shape[0], input_shape[1]\n",
        "        i = tf.range(sequence_length)[:, tf.newaxis]\n",
        "        j = tf.range(sequence_length)\n",
        "        mask = tf.cast(i >= j, dtype=\"int32\")\n",
        "        mask = tf.reshape(mask, (1, input_shape[1], input_shape[1]))\n",
        "        mult = tf.concat(\n",
        "            [tf.expand_dims(batch_size, -1),\n",
        "             tf.constant([1, 1], dtype=tf.int32)], axis=0)\n",
        "        return tf.tile(mask, mult)\n",
        "\n",
        "    def call(self, inputs, encoder_outputs, mask=None):\n",
        "        causal_mask = self.get_causal_attention_mask(inputs)\n",
        "        if mask is not None:\n",
        "            padding_mask = tf.cast(\n",
        "                mask[:, tf.newaxis, :], dtype=\"int32\")\n",
        "            padding_mask = tf.minimum(padding_mask, causal_mask)\n",
        "        attention_output_1 = self.attention_1(\n",
        "            query=inputs,\n",
        "            value=inputs,\n",
        "            key=inputs,\n",
        "            attention_mask=causal_mask)\n",
        "        attention_output_1 = self.layernorm_1(inputs + attention_output_1)\n",
        "        attention_output_2 = self.attention_2(\n",
        "            query=attention_output_1,\n",
        "            value=encoder_outputs,\n",
        "            key=encoder_outputs,\n",
        "            attention_mask=padding_mask,\n",
        "        )\n",
        "        attention_output_2 = self.layernorm_2(\n",
        "            attention_output_1 + attention_output_2)\n",
        "        proj_output = self.dense_proj(attention_output_2)\n",
        "        return self.layernorm_3(attention_output_2 + proj_output)"
      ]
    },
    {
      "cell_type": "markdown",
      "metadata": {
        "id": "mJTUp_zOu_by"
      },
      "source": [
        "#### Putting it all together: A Transformer for machine translation"
      ]
    },
    {
      "cell_type": "markdown",
      "metadata": {
        "id": "2cL_CvXhu_by"
      },
      "source": [
        "**PositionalEmbedding layer**"
      ]
    },
    {
      "cell_type": "code",
      "execution_count": 16,
      "metadata": {
        "id": "RJgjHp0vu_by"
      },
      "outputs": [],
      "source": [
        "class PositionalEmbedding(layers.Layer):\n",
        "    def __init__(self, sequence_length, input_dim, output_dim, **kwargs):\n",
        "        super().__init__(**kwargs)\n",
        "        self.token_embeddings = layers.Embedding(\n",
        "            input_dim=input_dim, output_dim=output_dim)\n",
        "        self.position_embeddings = layers.Embedding(\n",
        "            input_dim=sequence_length, output_dim=output_dim)\n",
        "        self.sequence_length = sequence_length\n",
        "        self.input_dim = input_dim\n",
        "        self.output_dim = output_dim\n",
        "\n",
        "    def call(self, inputs):\n",
        "        length = tf.shape(inputs)[-1]\n",
        "        positions = tf.range(start=0, limit=length, delta=1)\n",
        "        embedded_tokens = self.token_embeddings(inputs)\n",
        "        embedded_positions = self.position_embeddings(positions)\n",
        "        return embedded_tokens + embedded_positions\n",
        "\n",
        "    def compute_mask(self, inputs, mask=None):\n",
        "        return tf.math.not_equal(inputs, 0)\n",
        "\n",
        "    def get_config(self):\n",
        "        config = super(PositionalEmbedding, self).get_config()\n",
        "        config.update({\n",
        "            \"output_dim\": self.output_dim,\n",
        "            \"sequence_length\": self.sequence_length,\n",
        "            \"input_dim\": self.input_dim,\n",
        "        })\n",
        "        return config"
      ]
    },
    {
      "cell_type": "markdown",
      "metadata": {
        "id": "GI1KujaEu_by"
      },
      "source": [
        "**End-to-end Transformer**"
      ]
    },
    {
      "cell_type": "code",
      "source": [
        "class TransformerEncoder(layers.Layer):\n",
        "    def __init__(self, embed_dim, dense_dim, num_heads, **kwargs):\n",
        "        super().__init__(**kwargs)\n",
        "        self.embed_dim = embed_dim\n",
        "        self.dense_dim = dense_dim\n",
        "        self.num_heads = num_heads\n",
        "        # Multi-Head Attention层\n",
        "        self.attention = layers.MultiHeadAttention(\n",
        "            num_heads=num_heads, key_dim=embed_dim)\n",
        "        # Feed Forward层\n",
        "        self.dense_proj = keras.Sequential(\n",
        "            [layers.Dense(dense_dim, activation=\"relu\"),\n",
        "             layers.Dense(embed_dim),]\n",
        "        )\n",
        "        # Add&Norm层1\n",
        "        self.layernorm_1 = layers.LayerNormalization()\n",
        "        # Add&Norm层2\n",
        "        self.layernorm_2 = layers.LayerNormalization()\n",
        "\n",
        "    def call(self, inputs):\n",
        "        # 首先经过Multi-Head Attention层\n",
        "        attention_output = self.attention(inputs, inputs)\n",
        "        # 经过Add&Norm层1\n",
        "        proj_input = self.layernorm_1(inputs + attention_output)\n",
        "        # 经过Feed Forward层\n",
        "        proj_output = self.dense_proj(proj_input)\n",
        "        # 经过Add&Norm层2\n",
        "        return self.layernorm_2(proj_input + proj_output)"
      ],
      "metadata": {
        "id": "mwgtMBs3qLsG"
      },
      "execution_count": 21,
      "outputs": []
    },
    {
      "cell_type": "code",
      "execution_count": 22,
      "metadata": {
        "id": "YK1oyejHu_by"
      },
      "outputs": [],
      "source": [
        "embed_dim = 256\n",
        "dense_dim = 2048\n",
        "num_heads = 8\n",
        "\n",
        "encoder_inputs = keras.Input(shape=(None,), dtype=\"int64\", name=\"english\")\n",
        "x = PositionalEmbedding(sequence_length, vocab_size, embed_dim)(encoder_inputs)\n",
        "encoder_outputs = TransformerEncoder(embed_dim, dense_dim, num_heads)(x)\n",
        "\n",
        "decoder_inputs = keras.Input(shape=(None,), dtype=\"int64\", name=\"spanish\")\n",
        "x = PositionalEmbedding(sequence_length, vocab_size, embed_dim)(decoder_inputs)\n",
        "x = TransformerDecoder(embed_dim, dense_dim, num_heads)(x, encoder_outputs)\n",
        "x = layers.Dropout(0.5)(x)\n",
        "decoder_outputs = layers.Dense(vocab_size, activation=\"softmax\")(x)\n",
        "transformer = keras.Model([encoder_inputs, decoder_inputs], decoder_outputs)"
      ]
    },
    {
      "cell_type": "markdown",
      "metadata": {
        "id": "MGBlvsYfu_by"
      },
      "source": [
        "**Training the sequence-to-sequence Transformer**"
      ]
    },
    {
      "cell_type": "code",
      "execution_count": 23,
      "metadata": {
        "id": "U6Z7fvQou_by",
        "colab": {
          "base_uri": "https://localhost:8080/"
        },
        "outputId": "414ef095-9305-4583-f0a4-48de1b2ee8eb"
      },
      "outputs": [
        {
          "output_type": "stream",
          "name": "stdout",
          "text": [
            "Epoch 1/30\n",
            "1302/1302 [==============================] - 94s 69ms/step - loss: 1.7256 - accuracy: 0.3996 - val_loss: 1.3625 - val_accuracy: 0.4974\n",
            "Epoch 2/30\n",
            "1302/1302 [==============================] - 90s 69ms/step - loss: 1.3603 - accuracy: 0.5239 - val_loss: 1.1775 - val_accuracy: 0.5683\n",
            "Epoch 3/30\n",
            "1302/1302 [==============================] - 91s 70ms/step - loss: 1.1940 - accuracy: 0.5787 - val_loss: 1.0868 - val_accuracy: 0.6053\n",
            "Epoch 4/30\n",
            "1302/1302 [==============================] - 91s 70ms/step - loss: 1.1000 - accuracy: 0.6129 - val_loss: 1.0484 - val_accuracy: 0.6256\n",
            "Epoch 5/30\n",
            "1302/1302 [==============================] - 90s 69ms/step - loss: 1.0484 - accuracy: 0.6365 - val_loss: 1.0224 - val_accuracy: 0.6362\n",
            "Epoch 6/30\n",
            "1302/1302 [==============================] - 91s 70ms/step - loss: 1.0169 - accuracy: 0.6520 - val_loss: 1.0127 - val_accuracy: 0.6417\n",
            "Epoch 7/30\n",
            "1302/1302 [==============================] - 91s 70ms/step - loss: 0.9955 - accuracy: 0.6646 - val_loss: 1.0069 - val_accuracy: 0.6473\n",
            "Epoch 8/30\n",
            "1302/1302 [==============================] - 90s 69ms/step - loss: 0.9770 - accuracy: 0.6754 - val_loss: 1.0140 - val_accuracy: 0.6473\n",
            "Epoch 9/30\n",
            "1302/1302 [==============================] - 91s 70ms/step - loss: 0.9602 - accuracy: 0.6846 - val_loss: 1.0016 - val_accuracy: 0.6554\n",
            "Epoch 10/30\n",
            "1302/1302 [==============================] - 90s 69ms/step - loss: 0.9458 - accuracy: 0.6921 - val_loss: 1.0082 - val_accuracy: 0.6575\n",
            "Epoch 11/30\n",
            "1302/1302 [==============================] - 90s 69ms/step - loss: 0.9325 - accuracy: 0.6989 - val_loss: 1.0030 - val_accuracy: 0.6587\n",
            "Epoch 12/30\n",
            "1302/1302 [==============================] - 90s 69ms/step - loss: 0.9187 - accuracy: 0.7054 - val_loss: 1.0045 - val_accuracy: 0.6603\n",
            "Epoch 13/30\n",
            "1302/1302 [==============================] - 90s 69ms/step - loss: 0.9069 - accuracy: 0.7109 - val_loss: 1.0092 - val_accuracy: 0.6605\n",
            "Epoch 14/30\n",
            "1302/1302 [==============================] - 90s 69ms/step - loss: 0.8948 - accuracy: 0.7163 - val_loss: 1.0041 - val_accuracy: 0.6648\n",
            "Epoch 15/30\n",
            "1302/1302 [==============================] - 90s 69ms/step - loss: 0.8829 - accuracy: 0.7213 - val_loss: 1.0144 - val_accuracy: 0.6618\n",
            "Epoch 16/30\n",
            "1302/1302 [==============================] - 90s 69ms/step - loss: 0.8723 - accuracy: 0.7258 - val_loss: 1.0238 - val_accuracy: 0.6617\n",
            "Epoch 17/30\n",
            "1302/1302 [==============================] - 90s 69ms/step - loss: 0.8617 - accuracy: 0.7304 - val_loss: 1.0174 - val_accuracy: 0.6641\n",
            "Epoch 18/30\n",
            "1302/1302 [==============================] - 90s 69ms/step - loss: 0.8513 - accuracy: 0.7342 - val_loss: 1.0244 - val_accuracy: 0.6632\n",
            "Epoch 19/30\n",
            "1302/1302 [==============================] - 90s 69ms/step - loss: 0.8414 - accuracy: 0.7380 - val_loss: 1.0286 - val_accuracy: 0.6651\n",
            "Epoch 20/30\n",
            "1302/1302 [==============================] - 90s 69ms/step - loss: 0.8336 - accuracy: 0.7413 - val_loss: 1.0331 - val_accuracy: 0.6655\n",
            "Epoch 21/30\n",
            "1302/1302 [==============================] - 90s 69ms/step - loss: 0.8237 - accuracy: 0.7449 - val_loss: 1.0331 - val_accuracy: 0.6646\n",
            "Epoch 22/30\n",
            "1302/1302 [==============================] - 91s 70ms/step - loss: 0.8153 - accuracy: 0.7480 - val_loss: 1.0551 - val_accuracy: 0.6598\n",
            "Epoch 23/30\n",
            "1302/1302 [==============================] - 90s 69ms/step - loss: 0.8071 - accuracy: 0.7511 - val_loss: 1.0544 - val_accuracy: 0.6620\n",
            "Epoch 24/30\n",
            "1302/1302 [==============================] - 90s 69ms/step - loss: 0.7992 - accuracy: 0.7539 - val_loss: 1.0475 - val_accuracy: 0.6640\n",
            "Epoch 25/30\n",
            "1302/1302 [==============================] - 90s 69ms/step - loss: 0.7913 - accuracy: 0.7570 - val_loss: 1.0603 - val_accuracy: 0.6639\n",
            "Epoch 26/30\n",
            "1302/1302 [==============================] - 90s 69ms/step - loss: 0.7832 - accuracy: 0.7599 - val_loss: 1.0699 - val_accuracy: 0.6603\n",
            "Epoch 27/30\n",
            "1302/1302 [==============================] - 90s 69ms/step - loss: 0.7762 - accuracy: 0.7624 - val_loss: 1.0625 - val_accuracy: 0.6661\n",
            "Epoch 28/30\n",
            "1302/1302 [==============================] - 91s 70ms/step - loss: 0.7694 - accuracy: 0.7649 - val_loss: 1.0793 - val_accuracy: 0.6609\n",
            "Epoch 29/30\n",
            "1302/1302 [==============================] - 91s 70ms/step - loss: 0.7630 - accuracy: 0.7669 - val_loss: 1.0712 - val_accuracy: 0.6653\n",
            "Epoch 30/30\n",
            "1302/1302 [==============================] - 91s 70ms/step - loss: 0.7564 - accuracy: 0.7693 - val_loss: 1.0823 - val_accuracy: 0.6644\n"
          ]
        },
        {
          "output_type": "execute_result",
          "data": {
            "text/plain": [
              "<keras.callbacks.History at 0x7f6f0c415070>"
            ]
          },
          "metadata": {},
          "execution_count": 23
        }
      ],
      "source": [
        "transformer.compile(\n",
        "    optimizer=\"rmsprop\",\n",
        "    loss=\"sparse_categorical_crossentropy\",\n",
        "    metrics=[\"accuracy\"])\n",
        "transformer.fit(train_ds, epochs=30, validation_data=val_ds)"
      ]
    },
    {
      "cell_type": "markdown",
      "metadata": {
        "id": "SNZqX22Tu_by"
      },
      "source": [
        "**Translating new sentences with our Transformer model**"
      ]
    },
    {
      "cell_type": "code",
      "execution_count": 24,
      "metadata": {
        "id": "F8bqwNbeu_by",
        "colab": {
          "base_uri": "https://localhost:8080/"
        },
        "outputId": "68e51413-16b8-4e2e-add4-e2998d658027"
      },
      "outputs": [
        {
          "output_type": "stream",
          "name": "stdout",
          "text": [
            "-\n",
            "Tom wondered what was on Mary's mind.\n",
            "[start] tom se preguntó qué estaba esperando la decisión de mary [end]\n",
            "-\n",
            "Tom went to the movies every week.\n",
            "[start] tom fue al cine la semana próxima [end]\n",
            "-\n",
            "Can you show us the house?\n",
            "[start] me puedes [UNK] la casa [end]\n",
            "-\n",
            "I should have read the signs.\n",
            "[start] debería haber leído los [UNK] [end]\n",
            "-\n",
            "He has a bookstore in the center of the city.\n",
            "[start] Él tiene una carrera en el centro de la ciudad [end]\n",
            "-\n",
            "We've got a charter flight waiting to take us to Boston.\n",
            "[start] tenemos un [UNK] una [UNK] de [UNK] para boston [end]\n",
            "-\n",
            "I need to charge my cellphone.\n",
            "[start] necesito hermano a a mi tiempo [end]\n",
            "-\n",
            "You must be worn out after working all day.\n",
            "[start] tienes que estar [UNK] después de todo el día [end]\n",
            "-\n",
            "Only a few people listened to him.\n",
            "[start] solo unas pocos personas lo [UNK] [end]\n",
            "-\n",
            "Tell Tom it was a mistake.\n",
            "[start] hizo a tom que fue un error [end]\n",
            "-\n",
            "I'm able to speak French.\n",
            "[start] soy capaz de hablar francés [end]\n",
            "-\n",
            "All I have is books.\n",
            "[start] todo lo que tengo es libros [end]\n",
            "-\n",
            "I seasoned the fish with salt and pepper.\n",
            "[start] le [UNK] al pescado con la un pescado y la religión [end]\n",
            "-\n",
            "I don't deserve your friendship.\n",
            "[start] no te yo yo no estoy mal [end]\n",
            "-\n",
            "I showed my ticket at the door.\n",
            "[start] yo le que mi entrada a la puerta [UNK] [end]\n",
            "-\n",
            "We've got to leave early.\n",
            "[start] tenemos que salir temprano [end]\n",
            "-\n",
            "The train will arrive soon.\n",
            "[start] el tren pronto estará en cierto [end]\n",
            "-\n",
            "A is the first letter of the alphabet.\n",
            "[start] una carta está la [UNK] de la [UNK] [end]\n",
            "-\n",
            "Long skirts are in fashion.\n",
            "[start] las muy grande están de moda [end]\n",
            "-\n",
            "Don't ask me why.\n",
            "[start] no me hagas [UNK] por qué [end]\n"
          ]
        }
      ],
      "source": [
        "import numpy as np\n",
        "spa_vocab = target_vectorization.get_vocabulary()\n",
        "spa_index_lookup = dict(zip(range(len(spa_vocab)), spa_vocab))\n",
        "max_decoded_sentence_length = 20\n",
        "\n",
        "def decode_sequence(input_sentence):\n",
        "    tokenized_input_sentence = source_vectorization([input_sentence])\n",
        "    decoded_sentence = \"[start]\"\n",
        "    for i in range(max_decoded_sentence_length):\n",
        "        tokenized_target_sentence = target_vectorization(\n",
        "            [decoded_sentence])[:, :-1]\n",
        "        predictions = transformer(\n",
        "            [tokenized_input_sentence, tokenized_target_sentence])\n",
        "        sampled_token_index = np.argmax(predictions[0, i, :])\n",
        "        sampled_token = spa_index_lookup[sampled_token_index]\n",
        "        decoded_sentence += \" \" + sampled_token\n",
        "        if sampled_token == \"[end]\":\n",
        "            break\n",
        "    return decoded_sentence\n",
        "\n",
        "test_eng_texts = [pair[0] for pair in test_pairs]\n",
        "for _ in range(20):\n",
        "    input_sentence = random.choice(test_eng_texts)\n",
        "    print(\"-\")\n",
        "    print(input_sentence)\n",
        "    print(decode_sequence(input_sentence))"
      ]
    },
    {
      "cell_type": "markdown",
      "metadata": {
        "id": "rmyE-cdsu_bz"
      },
      "source": [
        "## Summary"
      ]
    }
  ],
  "metadata": {
    "colab": {
      "provenance": [],
      "include_colab_link": true
    },
    "kernelspec": {
      "display_name": "Python 3",
      "language": "python",
      "name": "python3"
    },
    "language_info": {
      "codemirror_mode": {
        "name": "ipython",
        "version": 3
      },
      "file_extension": ".py",
      "mimetype": "text/x-python",
      "name": "python",
      "nbconvert_exporter": "python",
      "pygments_lexer": "ipython3",
      "version": "3.7.0"
    },
    "accelerator": "GPU",
    "gpuClass": "standard"
  },
  "nbformat": 4,
  "nbformat_minor": 0
}
