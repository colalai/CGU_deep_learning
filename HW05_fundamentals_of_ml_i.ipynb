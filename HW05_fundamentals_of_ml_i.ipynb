{
  "cells": [
    {
      "cell_type": "markdown",
      "metadata": {
        "id": "view-in-github",
        "colab_type": "text"
      },
      "source": [
        "<a href=\"https://colab.research.google.com/github/colalai/CGU_deep_learning/blob/main/HW05_fundamentals_of_ml_i.ipynb\" target=\"_parent\"><img src=\"https://colab.research.google.com/assets/colab-badge.svg\" alt=\"Open In Colab\"/></a>"
      ]
    },
    {
      "cell_type": "markdown",
      "metadata": {
        "id": "Q-0b4TCcULhC"
      },
      "source": [
        "This is a companion notebook for the book [Deep Learning with Python, Second Edition](https://www.manning.com/books/deep-learning-with-python-second-edition?a_aid=keras&a_bid=76564dff). For readability, it only contains runnable code blocks and section titles, and omits everything else in the book: text paragraphs, figures, and pseudocode.\n",
        "\n",
        "**If you want to be able to follow what's going on, I recommend reading the notebook side by side with your copy of the book.**\n",
        "\n",
        "This notebook was generated for TensorFlow 2.6."
      ]
    },
    {
      "cell_type": "markdown",
      "metadata": {
        "id": "IomLuuyaULhK"
      },
      "source": [
        "# Fundamentals of machine learning"
      ]
    },
    {
      "cell_type": "markdown",
      "metadata": {
        "id": "EGg6CvR7ULhO"
      },
      "source": [
        "## Generalization: The goal of machine learning"
      ]
    },
    {
      "cell_type": "markdown",
      "metadata": {
        "id": "jkjrAPOZULhO"
      },
      "source": [
        "### Underfitting and overfitting"
      ]
    },
    {
      "cell_type": "markdown",
      "metadata": {
        "id": "_OHTMUupULhO"
      },
      "source": [
        "#### Noisy training data"
      ]
    },
    {
      "cell_type": "markdown",
      "metadata": {
        "id": "xIKPamZIULhP"
      },
      "source": [
        "#### Ambiguous features"
      ]
    },
    {
      "cell_type": "markdown",
      "metadata": {
        "id": "5NBBWtAvULhP"
      },
      "source": [
        "#### Rare features and spurious correlations"
      ]
    },
    {
      "cell_type": "markdown",
      "metadata": {
        "id": "efTd0SukULhP"
      },
      "source": [
        "**Adding white-noise channels or all-zeros channels to MNIST**"
      ]
    },
    {
      "cell_type": "code",
      "execution_count": 1,
      "metadata": {
        "id": "IqWXzsE1ULhQ",
        "colab": {
          "base_uri": "https://localhost:8080/"
        },
        "outputId": "e4d681b4-3850-4b00-f307-ad0cf95ffd0b"
      },
      "outputs": [
        {
          "output_type": "stream",
          "name": "stdout",
          "text": [
            "Downloading data from https://storage.googleapis.com/tensorflow/tf-keras-datasets/mnist.npz\n",
            "11490434/11490434 [==============================] - 0s 0us/step\n"
          ]
        }
      ],
      "source": [
        "from tensorflow.keras.datasets import mnist\n",
        "import numpy as np\n",
        "\n",
        "(train_images, train_labels), _ = mnist.load_data()\n",
        "train_images = train_images.reshape((60000, 28 * 28))\n",
        "train_images = train_images.astype(\"float32\") / 255\n",
        "\n",
        "train_images_with_noise_channels = np.concatenate(\n",
        "    [train_images, np.random.random((len(train_images), 784))], axis=1)\n",
        "\n",
        "train_images_with_zeros_channels = np.concatenate(\n",
        "    [train_images, np.zeros((len(train_images), 784))], axis=1)"
      ]
    },
    {
      "cell_type": "markdown",
      "metadata": {
        "id": "rO1qsEshULhS"
      },
      "source": [
        "**Training the same model on MNIST data with noise channels or all-zero channels**"
      ]
    },
    {
      "cell_type": "code",
      "execution_count": 2,
      "metadata": {
        "id": "U81lhyp_ULhT",
        "colab": {
          "base_uri": "https://localhost:8080/"
        },
        "outputId": "0b04f933-1e41-41d5-a5e2-2228d2a82931"
      },
      "outputs": [
        {
          "output_type": "stream",
          "name": "stdout",
          "text": [
            "Epoch 1/10\n",
            "375/375 [==============================] - 15s 36ms/step - loss: 0.6092 - accuracy: 0.8143 - val_loss: 0.2936 - val_accuracy: 0.9114\n",
            "Epoch 2/10\n",
            "375/375 [==============================] - 7s 20ms/step - loss: 0.2438 - accuracy: 0.9250 - val_loss: 0.2033 - val_accuracy: 0.9392\n",
            "Epoch 3/10\n",
            "375/375 [==============================] - 7s 20ms/step - loss: 0.1605 - accuracy: 0.9500 - val_loss: 0.1447 - val_accuracy: 0.9582\n",
            "Epoch 4/10\n",
            "375/375 [==============================] - 7s 19ms/step - loss: 0.1147 - accuracy: 0.9633 - val_loss: 0.1286 - val_accuracy: 0.9625\n",
            "Epoch 5/10\n",
            "375/375 [==============================] - 7s 20ms/step - loss: 0.0852 - accuracy: 0.9731 - val_loss: 0.1341 - val_accuracy: 0.9594\n",
            "Epoch 6/10\n",
            "375/375 [==============================] - 7s 19ms/step - loss: 0.0627 - accuracy: 0.9805 - val_loss: 0.1297 - val_accuracy: 0.9641\n",
            "Epoch 7/10\n",
            "375/375 [==============================] - 7s 20ms/step - loss: 0.0478 - accuracy: 0.9841 - val_loss: 0.1689 - val_accuracy: 0.9518\n",
            "Epoch 8/10\n",
            "375/375 [==============================] - 7s 19ms/step - loss: 0.0359 - accuracy: 0.9885 - val_loss: 0.1728 - val_accuracy: 0.9544\n",
            "Epoch 9/10\n",
            "375/375 [==============================] - 7s 20ms/step - loss: 0.0268 - accuracy: 0.9910 - val_loss: 0.1252 - val_accuracy: 0.9699\n",
            "Epoch 10/10\n",
            "375/375 [==============================] - 7s 20ms/step - loss: 0.0219 - accuracy: 0.9926 - val_loss: 0.1476 - val_accuracy: 0.9653\n",
            "Epoch 1/10\n",
            "375/375 [==============================] - 8s 20ms/step - loss: 0.2875 - accuracy: 0.9156 - val_loss: 0.1467 - val_accuracy: 0.9572\n",
            "Epoch 2/10\n",
            "375/375 [==============================] - 7s 20ms/step - loss: 0.1199 - accuracy: 0.9647 - val_loss: 0.1018 - val_accuracy: 0.9704\n",
            "Epoch 3/10\n",
            "375/375 [==============================] - 7s 19ms/step - loss: 0.0792 - accuracy: 0.9767 - val_loss: 0.0903 - val_accuracy: 0.9722\n",
            "Epoch 4/10\n",
            "375/375 [==============================] - 8s 22ms/step - loss: 0.0569 - accuracy: 0.9836 - val_loss: 0.0769 - val_accuracy: 0.9760\n",
            "Epoch 5/10\n",
            "375/375 [==============================] - 7s 20ms/step - loss: 0.0424 - accuracy: 0.9869 - val_loss: 0.0802 - val_accuracy: 0.9767\n",
            "Epoch 6/10\n",
            "375/375 [==============================] - 7s 19ms/step - loss: 0.0320 - accuracy: 0.9907 - val_loss: 0.0752 - val_accuracy: 0.9785\n",
            "Epoch 7/10\n",
            "375/375 [==============================] - 7s 19ms/step - loss: 0.0246 - accuracy: 0.9928 - val_loss: 0.0848 - val_accuracy: 0.9757\n",
            "Epoch 8/10\n",
            "375/375 [==============================] - 7s 20ms/step - loss: 0.0187 - accuracy: 0.9947 - val_loss: 0.0789 - val_accuracy: 0.9784\n",
            "Epoch 9/10\n",
            "375/375 [==============================] - 7s 19ms/step - loss: 0.0146 - accuracy: 0.9959 - val_loss: 0.0904 - val_accuracy: 0.9761\n",
            "Epoch 10/10\n",
            "375/375 [==============================] - 7s 19ms/step - loss: 0.0108 - accuracy: 0.9971 - val_loss: 0.0811 - val_accuracy: 0.9805\n"
          ]
        }
      ],
      "source": [
        "from tensorflow import keras\n",
        "from tensorflow.keras import layers\n",
        "\n",
        "def get_model():\n",
        "    model = keras.Sequential([\n",
        "        layers.Dense(512, activation=\"relu\"),\n",
        "        layers.Dense(10, activation=\"softmax\")\n",
        "    ])\n",
        "    model.compile(optimizer=\"rmsprop\",\n",
        "                  loss=\"sparse_categorical_crossentropy\",\n",
        "                  metrics=[\"accuracy\"])\n",
        "    return model\n",
        "\n",
        "model = get_model()\n",
        "history_noise = model.fit(\n",
        "    train_images_with_noise_channels, train_labels,\n",
        "    epochs=10,\n",
        "    batch_size=128,\n",
        "    validation_split=0.2)\n",
        "\n",
        "model = get_model()\n",
        "history_zeros = model.fit(\n",
        "    train_images_with_zeros_channels, train_labels,\n",
        "    epochs=10,\n",
        "    batch_size=128,\n",
        "    validation_split=0.2)"
      ]
    },
    {
      "cell_type": "markdown",
      "metadata": {
        "id": "2mSXTA3cULhT"
      },
      "source": [
        "**Plotting a validation accuracy comparison**"
      ]
    },
    {
      "cell_type": "code",
      "execution_count": 3,
      "metadata": {
        "id": "XDJvqQW2ULhT",
        "colab": {
          "base_uri": "https://localhost:8080/",
          "height": 312
        },
        "outputId": "4d40a83b-169a-4dd7-adc0-40919620fe52"
      },
      "outputs": [
        {
          "output_type": "execute_result",
          "data": {
            "text/plain": [
              "<matplotlib.legend.Legend at 0x7fa3295ec210>"
            ]
          },
          "metadata": {},
          "execution_count": 3
        },
        {
          "output_type": "display_data",
          "data": {
            "text/plain": [
              "<Figure size 432x288 with 1 Axes>"
            ],
            "image/png": "[encoded data removed]"
          },
          "metadata": {
            "needs_background": "light"
          }
        }
      ],
      "source": [
        "import matplotlib.pyplot as plt\n",
        "val_acc_noise = history_noise.history[\"val_accuracy\"]\n",
        "val_acc_zeros = history_zeros.history[\"val_accuracy\"]\n",
        "epochs = range(1, 11)\n",
        "plt.plot(epochs, val_acc_noise, \"b-\",\n",
        "         label=\"Validation accuracy with noise channels\")\n",
        "plt.plot(epochs, val_acc_zeros, \"b--\",\n",
        "         label=\"Validation accuracy with zeros channels\")\n",
        "plt.title(\"Effect of noise channels on validation accuracy\")\n",
        "plt.xlabel(\"Epochs\")\n",
        "plt.ylabel(\"Accuracy\")\n",
        "plt.legend()"
      ]
    },
    {
      "cell_type": "markdown",
      "metadata": {
        "id": "J9_a8z2DULhU"
      },
      "source": [
        "### The nature of generalization in deep learning"
      ]
    },
    {
      "cell_type": "markdown",
      "metadata": {
        "id": "iTWqSgF0ULhU"
      },
      "source": [
        "**Fitting a MNIST model with randomly shuffled labels**"
      ]
    },
    {
      "cell_type": "code",
      "execution_count": 4,
      "metadata": {
        "id": "qNqXK6opULhU",
        "colab": {
          "base_uri": "https://localhost:8080/"
        },
        "outputId": "4f4bbb28-8fa2-4a66-9e82-6f2981beb399"
      },
      "outputs": [
        {
          "output_type": "stream",
          "name": "stdout",
          "text": [
            "Epoch 1/2\n",
            "375/375 [==============================] - 5s 12ms/step - loss: 2.3163 - accuracy: 0.1021 - val_loss: 2.3064 - val_accuracy: 0.1001\n",
            "Epoch 2/2\n",
            "375/375 [==============================] - 4s 12ms/step - loss: 2.3001 - accuracy: 0.1159 - val_loss: 2.3132 - val_accuracy: 0.1061\n"
          ]
        },
        {
          "output_type": "execute_result",
          "data": {
            "text/plain": [
              "<keras.callbacks.History at 0x7fa32ac76dd0>"
            ]
          },
          "metadata": {},
          "execution_count": 4
        }
      ],
      "source": [
        "(train_images, train_labels), _ = mnist.load_data()\n",
        "train_images = train_images.reshape((60000, 28 * 28))\n",
        "train_images = train_images.astype(\"float32\") / 255\n",
        "\n",
        "random_train_labels = train_labels[:]\n",
        "np.random.shuffle(random_train_labels)\n",
        "\n",
        "model = keras.Sequential([\n",
        "    layers.Dense(512, activation=\"relu\"),\n",
        "    layers.Dense(10, activation=\"softmax\")\n",
        "])\n",
        "model.compile(optimizer=\"rmsprop\",\n",
        "              loss=\"sparse_categorical_crossentropy\",\n",
        "              metrics=[\"accuracy\"])\n",
        "model.fit(train_images, random_train_labels,\n",
        "          epochs=2,\n",
        "          batch_size=128,\n",
        "          validation_split=0.2)"
      ]
    },
    {
      "cell_type": "markdown",
      "metadata": {
        "id": "ibT9nqVEULhV"
      },
      "source": [
        "#### The manifold hypothesis"
      ]
    },
    {
      "cell_type": "markdown",
      "metadata": {
        "id": "Qlt3_gXXULhV"
      },
      "source": [
        "#### Interpolation as a source of generalization"
      ]
    },
    {
      "cell_type": "markdown",
      "metadata": {
        "id": "KJ6DSJTbULhV"
      },
      "source": [
        "#### Why deep learning works"
      ]
    },
    {
      "cell_type": "markdown",
      "metadata": {
        "id": "hIYHxocRULhV"
      },
      "source": [
        "#### Training data is paramount"
      ]
    },
    {
      "cell_type": "markdown",
      "metadata": {
        "id": "1PPBNhhLULhV"
      },
      "source": [
        "## Evaluating machine-learning models"
      ]
    },
    {
      "cell_type": "markdown",
      "metadata": {
        "id": "OrAr2Jj0ULhV"
      },
      "source": [
        "### Training, validation, and test sets"
      ]
    },
    {
      "cell_type": "markdown",
      "metadata": {
        "id": "KTXazuEcULhW"
      },
      "source": [
        "#### Simple hold-out validation"
      ]
    },
    {
      "cell_type": "markdown",
      "metadata": {
        "id": "TysCyAtSULhW"
      },
      "source": [
        "#### K-fold validation"
      ]
    },
    {
      "cell_type": "markdown",
      "metadata": {
        "id": "i4LwHiU8ULhW"
      },
      "source": [
        "#### Iterated K-fold validation with shuffling"
      ]
    },
    {
      "cell_type": "markdown",
      "metadata": {
        "id": "jp5-FUhyULhW"
      },
      "source": [
        "### Beating a common-sense baseline"
      ]
    },
    {
      "cell_type": "markdown",
      "metadata": {
        "id": "gM_2QeQnULhW"
      },
      "source": [
        "### Things to keep in mind about model evaluation"
      ]
    },
    {
      "cell_type": "markdown",
      "metadata": {
        "id": "69OFmG97ULhW"
      },
      "source": [
        "## Improving model fit"
      ]
    },
    {
      "cell_type": "markdown",
      "metadata": {
        "id": "1GJgTAUbULhX"
      },
      "source": [
        "### Tuning key gradient descent parameters"
      ]
    },
    {
      "cell_type": "markdown",
      "metadata": {
        "id": "RX_P613tULhX"
      },
      "source": [
        "**Training a MNIST model with an incorrectly high learning rate**"
      ]
    },
    {
      "cell_type": "code",
      "execution_count": 5,
      "metadata": {
        "id": "pDbXdt0fULhX",
        "colab": {
          "base_uri": "https://localhost:8080/"
        },
        "outputId": "9223006b-60bd-4f59-fa59-41c6786a374e"
      },
      "outputs": [
        {
          "output_type": "stream",
          "name": "stdout",
          "text": [
            "Epoch 1/10\n",
            "375/375 [==============================] - 5s 12ms/step - loss: 944.5941 - accuracy: 0.3430 - val_loss: 3.0680 - val_accuracy: 0.2685\n",
            "Epoch 2/10\n",
            "375/375 [==============================] - 4s 12ms/step - loss: 3.4339 - accuracy: 0.2354 - val_loss: 6.3518 - val_accuracy: 0.2397\n",
            "Epoch 3/10\n",
            "375/375 [==============================] - 4s 12ms/step - loss: 3.3685 - accuracy: 0.2234 - val_loss: 2.7678 - val_accuracy: 0.2146\n",
            "Epoch 4/10\n",
            "375/375 [==============================] - 4s 12ms/step - loss: 2.9965 - accuracy: 0.1977 - val_loss: 2.4207 - val_accuracy: 0.1428\n",
            "Epoch 5/10\n",
            "375/375 [==============================] - 4s 12ms/step - loss: 2.8778 - accuracy: 0.1899 - val_loss: 2.2011 - val_accuracy: 0.1939\n",
            "Epoch 6/10\n",
            "375/375 [==============================] - 4s 12ms/step - loss: 2.8149 - accuracy: 0.1949 - val_loss: 2.4142 - val_accuracy: 0.2782\n",
            "Epoch 7/10\n",
            "375/375 [==============================] - 4s 12ms/step - loss: 2.7728 - accuracy: 0.2065 - val_loss: 2.7758 - val_accuracy: 0.2776\n",
            "Epoch 8/10\n",
            "375/375 [==============================] - 4s 12ms/step - loss: 2.5973 - accuracy: 0.2218 - val_loss: 2.9518 - val_accuracy: 0.2316\n",
            "Epoch 9/10\n",
            "375/375 [==============================] - 4s 12ms/step - loss: 2.5599 - accuracy: 0.2226 - val_loss: 2.0627 - val_accuracy: 0.2110\n",
            "Epoch 10/10\n",
            "375/375 [==============================] - 4s 12ms/step - loss: 2.4957 - accuracy: 0.2114 - val_loss: 2.5678 - val_accuracy: 0.1999\n"
          ]
        },
        {
          "output_type": "execute_result",
          "data": {
            "text/plain": [
              "<keras.callbacks.History at 0x7fa326e79990>"
            ]
          },
          "metadata": {},
          "execution_count": 5
        }
      ],
      "source": [
        "(train_images, train_labels), _ = mnist.load_data()\n",
        "train_images = train_images.reshape((60000, 28 * 28))\n",
        "train_images = train_images.astype(\"float32\") / 255\n",
        "\n",
        "model = keras.Sequential([\n",
        "    layers.Dense(512, activation=\"relu\"),\n",
        "    layers.Dense(10, activation=\"softmax\")\n",
        "])\n",
        "model.compile(optimizer=keras.optimizers.RMSprop(1.),\n",
        "              loss=\"sparse_categorical_crossentropy\",\n",
        "              metrics=[\"accuracy\"])\n",
        "model.fit(train_images, train_labels,\n",
        "          epochs=10,\n",
        "          batch_size=128,\n",
        "          validation_split=0.2)"
      ]
    },
    {
      "cell_type": "markdown",
      "metadata": {
        "id": "SDDkSM6vULhX"
      },
      "source": [
        "**The same model with a more appropriate learning rate**"
      ]
    },
    {
      "cell_type": "code",
      "execution_count": 6,
      "metadata": {
        "id": "s3uAMH-9ULhX",
        "colab": {
          "base_uri": "https://localhost:8080/"
        },
        "outputId": "586f6abe-83ae-4f20-9dba-6e0a1ca3dd66"
      },
      "outputs": [
        {
          "output_type": "stream",
          "name": "stdout",
          "text": [
            "Epoch 1/10\n",
            "375/375 [==============================] - 5s 13ms/step - loss: 0.3688 - accuracy: 0.9120 - val_loss: 0.2946 - val_accuracy: 0.9265\n",
            "Epoch 2/10\n",
            "375/375 [==============================] - 5s 12ms/step - loss: 0.1410 - accuracy: 0.9637 - val_loss: 0.1601 - val_accuracy: 0.9638\n",
            "Epoch 3/10\n",
            "375/375 [==============================] - 4s 12ms/step - loss: 0.1176 - accuracy: 0.9734 - val_loss: 0.2163 - val_accuracy: 0.9610\n",
            "Epoch 4/10\n",
            "375/375 [==============================] - 5s 12ms/step - loss: 0.1012 - accuracy: 0.9773 - val_loss: 0.1915 - val_accuracy: 0.9665\n",
            "Epoch 5/10\n",
            "375/375 [==============================] - 5s 12ms/step - loss: 0.0837 - accuracy: 0.9818 - val_loss: 0.1866 - val_accuracy: 0.9726\n",
            "Epoch 6/10\n",
            "375/375 [==============================] - 4s 12ms/step - loss: 0.0831 - accuracy: 0.9847 - val_loss: 0.2434 - val_accuracy: 0.9719\n",
            "Epoch 7/10\n",
            "375/375 [==============================] - 4s 12ms/step - loss: 0.0743 - accuracy: 0.9864 - val_loss: 0.2719 - val_accuracy: 0.9707\n",
            "Epoch 8/10\n",
            "375/375 [==============================] - 4s 12ms/step - loss: 0.0742 - accuracy: 0.9868 - val_loss: 0.2710 - val_accuracy: 0.9712\n",
            "Epoch 9/10\n",
            "375/375 [==============================] - 5s 13ms/step - loss: 0.0607 - accuracy: 0.9890 - val_loss: 0.2742 - val_accuracy: 0.9751\n",
            "Epoch 10/10\n",
            "375/375 [==============================] - 4s 12ms/step - loss: 0.0540 - accuracy: 0.9905 - val_loss: 0.3060 - val_accuracy: 0.9733\n"
          ]
        },
        {
          "output_type": "execute_result",
          "data": {
            "text/plain": [
              "<keras.callbacks.History at 0x7fa3276a1d50>"
            ]
          },
          "metadata": {},
          "execution_count": 6
        }
      ],
      "source": [
        "model = keras.Sequential([\n",
        "    layers.Dense(512, activation=\"relu\"),\n",
        "    layers.Dense(10, activation=\"softmax\")\n",
        "])\n",
        "model.compile(optimizer=keras.optimizers.RMSprop(1e-2),\n",
        "              loss=\"sparse_categorical_crossentropy\",\n",
        "              metrics=[\"accuracy\"])\n",
        "model.fit(train_images, train_labels,\n",
        "          epochs=10,\n",
        "          batch_size=128,\n",
        "          validation_split=0.2)"
      ]
    },
    {
      "cell_type": "markdown",
      "metadata": {
        "id": "L2altBT-ULhX"
      },
      "source": [
        "### Leveraging better architecture priors"
      ]
    },
    {
      "cell_type": "markdown",
      "metadata": {
        "id": "MDeJNtxAULhY"
      },
      "source": [
        "### Increasing model capacity"
      ]
    },
    {
      "cell_type": "markdown",
      "metadata": {
        "id": "_2ONnXOtULha"
      },
      "source": [
        "**A simple logistic regression on MNIST**"
      ]
    },
    {
      "cell_type": "code",
      "execution_count": 7,
      "metadata": {
        "id": "sGKa0LhzULha",
        "colab": {
          "base_uri": "https://localhost:8080/"
        },
        "outputId": "e03a2672-54d4-4773-c1ad-1900c1001d52"
      },
      "outputs": [
        {
          "output_type": "stream",
          "name": "stdout",
          "text": [
            "Epoch 1/20\n",
            "375/375 [==============================] - 2s 3ms/step - loss: 0.6678 - accuracy: 0.8398 - val_loss: 0.3557 - val_accuracy: 0.9065\n",
            "Epoch 2/20\n",
            "375/375 [==============================] - 1s 3ms/step - loss: 0.3500 - accuracy: 0.9038 - val_loss: 0.3057 - val_accuracy: 0.9177\n",
            "Epoch 3/20\n",
            "375/375 [==============================] - 1s 3ms/step - loss: 0.3143 - accuracy: 0.9124 - val_loss: 0.2911 - val_accuracy: 0.9183\n",
            "Epoch 4/20\n",
            "375/375 [==============================] - 1s 3ms/step - loss: 0.2990 - accuracy: 0.9169 - val_loss: 0.2819 - val_accuracy: 0.9228\n",
            "Epoch 5/20\n",
            "375/375 [==============================] - 1s 3ms/step - loss: 0.2889 - accuracy: 0.9193 - val_loss: 0.2773 - val_accuracy: 0.9239\n",
            "Epoch 6/20\n",
            "375/375 [==============================] - 1s 3ms/step - loss: 0.2825 - accuracy: 0.9210 - val_loss: 0.2717 - val_accuracy: 0.9257\n",
            "Epoch 7/20\n",
            "375/375 [==============================] - 1s 3ms/step - loss: 0.2778 - accuracy: 0.9221 - val_loss: 0.2697 - val_accuracy: 0.9242\n",
            "Epoch 8/20\n",
            "375/375 [==============================] - 1s 3ms/step - loss: 0.2740 - accuracy: 0.9239 - val_loss: 0.2663 - val_accuracy: 0.9274\n",
            "Epoch 9/20\n",
            "375/375 [==============================] - 1s 3ms/step - loss: 0.2710 - accuracy: 0.9250 - val_loss: 0.2662 - val_accuracy: 0.9270\n",
            "Epoch 10/20\n",
            "375/375 [==============================] - 1s 3ms/step - loss: 0.2685 - accuracy: 0.9256 - val_loss: 0.2646 - val_accuracy: 0.9288\n",
            "Epoch 11/20\n",
            "375/375 [==============================] - 1s 3ms/step - loss: 0.2662 - accuracy: 0.9269 - val_loss: 0.2645 - val_accuracy: 0.9274\n",
            "Epoch 12/20\n",
            "375/375 [==============================] - 1s 3ms/step - loss: 0.2645 - accuracy: 0.9268 - val_loss: 0.2654 - val_accuracy: 0.9287\n",
            "Epoch 13/20\n",
            "375/375 [==============================] - 1s 3ms/step - loss: 0.2632 - accuracy: 0.9278 - val_loss: 0.2621 - val_accuracy: 0.9285\n",
            "Epoch 14/20\n",
            "375/375 [==============================] - 1s 3ms/step - loss: 0.2616 - accuracy: 0.9282 - val_loss: 0.2617 - val_accuracy: 0.9296\n",
            "Epoch 15/20\n",
            "375/375 [==============================] - 1s 3ms/step - loss: 0.2603 - accuracy: 0.9283 - val_loss: 0.2613 - val_accuracy: 0.9302\n",
            "Epoch 16/20\n",
            "375/375 [==============================] - 1s 3ms/step - loss: 0.2589 - accuracy: 0.9288 - val_loss: 0.2627 - val_accuracy: 0.9295\n",
            "Epoch 17/20\n",
            "375/375 [==============================] - 1s 3ms/step - loss: 0.2583 - accuracy: 0.9293 - val_loss: 0.2605 - val_accuracy: 0.9305\n",
            "Epoch 18/20\n",
            "375/375 [==============================] - 1s 3ms/step - loss: 0.2571 - accuracy: 0.9293 - val_loss: 0.2622 - val_accuracy: 0.9298\n",
            "Epoch 19/20\n",
            "375/375 [==============================] - 1s 3ms/step - loss: 0.2563 - accuracy: 0.9302 - val_loss: 0.2601 - val_accuracy: 0.9311\n",
            "Epoch 20/20\n",
            "375/375 [==============================] - 1s 3ms/step - loss: 0.2552 - accuracy: 0.9307 - val_loss: 0.2628 - val_accuracy: 0.9311\n"
          ]
        }
      ],
      "source": [
        "model = keras.Sequential([layers.Dense(10, activation=\"softmax\")])\n",
        "model.compile(optimizer=\"rmsprop\",\n",
        "              loss=\"sparse_categorical_crossentropy\",\n",
        "              metrics=[\"accuracy\"])\n",
        "history_small_model = model.fit(\n",
        "    train_images, train_labels,\n",
        "    epochs=20,\n",
        "    batch_size=128,\n",
        "    validation_split=0.2)"
      ]
    },
    {
      "cell_type": "code",
      "execution_count": 8,
      "metadata": {
        "id": "M6DCQv6jULha",
        "colab": {
          "base_uri": "https://localhost:8080/",
          "height": 312
        },
        "outputId": "14f1a853-e45b-44e9-9cbf-6c2d316eff6c"
      },
      "outputs": [
        {
          "output_type": "execute_result",
          "data": {
            "text/plain": [
              "<matplotlib.legend.Legend at 0x7fa326ae9390>"
            ]
          },
          "metadata": {},
          "execution_count": 8
        },
        {
          "output_type": "display_data",
          "data": {
            "text/plain": [
              "<Figure size 432x288 with 1 Axes>"
            ],
            "image/png": "[encoded data removed]"
          },
          "metadata": {
            "needs_background": "light"
          }
        }
      ],
      "source": [
        "import matplotlib.pyplot as plt\n",
        "val_loss = history_small_model.history[\"val_loss\"]\n",
        "epochs = range(1, 21)\n",
        "plt.plot(epochs, val_loss, \"b--\",\n",
        "         label=\"Validation loss\")\n",
        "plt.title(\"Effect of insufficient model capacity on validation loss\")\n",
        "plt.xlabel(\"Epochs\")\n",
        "plt.ylabel(\"Loss\")\n",
        "plt.legend()"
      ]
    },
    {
      "cell_type": "code",
      "execution_count": 9,
      "metadata": {
        "id": "PscF4xWRULhb",
        "colab": {
          "base_uri": "https://localhost:8080/"
        },
        "outputId": "94e847b4-991b-453a-d5e4-0e87ee3f712d"
      },
      "outputs": [
        {
          "output_type": "stream",
          "name": "stdout",
          "text": [
            "Epoch 1/10\n",
            "375/375 [==============================] - 3s 6ms/step - loss: 0.3634 - accuracy: 0.8977 - val_loss: 0.2101 - val_accuracy: 0.9381\n",
            "Epoch 2/10\n",
            "375/375 [==============================] - 2s 6ms/step - loss: 0.1603 - accuracy: 0.9526 - val_loss: 0.1379 - val_accuracy: 0.9587\n",
            "Epoch 3/10\n",
            "375/375 [==============================] - 2s 6ms/step - loss: 0.1140 - accuracy: 0.9656 - val_loss: 0.1147 - val_accuracy: 0.9657\n",
            "Epoch 4/10\n",
            "375/375 [==============================] - 2s 6ms/step - loss: 0.0875 - accuracy: 0.9739 - val_loss: 0.1061 - val_accuracy: 0.9661\n",
            "Epoch 5/10\n",
            "375/375 [==============================] - 2s 6ms/step - loss: 0.0697 - accuracy: 0.9785 - val_loss: 0.0989 - val_accuracy: 0.9722\n",
            "Epoch 6/10\n",
            "375/375 [==============================] - 2s 6ms/step - loss: 0.0578 - accuracy: 0.9827 - val_loss: 0.0986 - val_accuracy: 0.9716\n",
            "Epoch 7/10\n",
            "375/375 [==============================] - 2s 6ms/step - loss: 0.0473 - accuracy: 0.9856 - val_loss: 0.0962 - val_accuracy: 0.9739\n",
            "Epoch 8/10\n",
            "375/375 [==============================] - 2s 6ms/step - loss: 0.0398 - accuracy: 0.9873 - val_loss: 0.1029 - val_accuracy: 0.9722\n",
            "Epoch 9/10\n",
            "375/375 [==============================] - 2s 6ms/step - loss: 0.0325 - accuracy: 0.9899 - val_loss: 0.1142 - val_accuracy: 0.9697\n",
            "Epoch 10/10\n",
            "375/375 [==============================] - 2s 6ms/step - loss: 0.0275 - accuracy: 0.9911 - val_loss: 0.1247 - val_accuracy: 0.9702\n"
          ]
        }
      ],
      "source": [
        "model = keras.Sequential([\n",
        "    layers.Dense(96, activation=\"relu\"),\n",
        "    layers.Dense(96, activation=\"relu\"),\n",
        "    layers.Dense(10, activation=\"softmax\"),\n",
        "])\n",
        "model.compile(optimizer=\"rmsprop\",\n",
        "              loss=\"sparse_categorical_crossentropy\",\n",
        "              metrics=[\"accuracy\"])\n",
        "history_large_model = model.fit(\n",
        "    train_images, train_labels,\n",
        "    epochs=10,\n",
        "    batch_size=128,\n",
        "    validation_split=0.2)"
      ]
    },
    {
      "cell_type": "markdown",
      "metadata": {
        "id": "mnxtjJ7vULhb"
      },
      "source": [
        "## Improving generalization"
      ]
    },
    {
      "cell_type": "markdown",
      "metadata": {
        "id": "oAhMjkTYULhb"
      },
      "source": [
        "### Dataset curation"
      ]
    },
    {
      "cell_type": "markdown",
      "metadata": {
        "id": "Wv56PXDSULhb"
      },
      "source": [
        "### Feature engineering"
      ]
    },
    {
      "cell_type": "markdown",
      "metadata": {
        "id": "agemVttOULhb"
      },
      "source": [
        "### Using early stopping"
      ]
    },
    {
      "cell_type": "markdown",
      "metadata": {
        "id": "99JOsv14ULhb"
      },
      "source": [
        "### Regularizing your model"
      ]
    },
    {
      "cell_type": "markdown",
      "metadata": {
        "id": "E4z2WKUuULhb"
      },
      "source": [
        "#### Reducing the network's size"
      ]
    },
    {
      "cell_type": "markdown",
      "metadata": {
        "id": "Ui7SBoSrULhc"
      },
      "source": [
        "**Original model**"
      ]
    },
    {
      "cell_type": "code",
      "execution_count": 10,
      "metadata": {
        "id": "L_RixYH3ULhc",
        "colab": {
          "base_uri": "https://localhost:8080/"
        },
        "outputId": "f26de7d2-327d-4a75-ca88-e5f341c955e4"
      },
      "outputs": [
        {
          "output_type": "stream",
          "name": "stdout",
          "text": [
            "Downloading data from https://storage.googleapis.com/tensorflow/tf-keras-datasets/imdb.npz\n",
            "17464789/17464789 [==============================] - 0s 0us/step\n",
            "Epoch 1/20\n",
            "30/30 [==============================] - 2s 45ms/step - loss: 0.5066 - accuracy: 0.7856 - val_loss: 0.3770 - val_accuracy: 0.8739\n",
            "Epoch 2/20\n",
            "30/30 [==============================] - 1s 33ms/step - loss: 0.2957 - accuracy: 0.9027 - val_loss: 0.2972 - val_accuracy: 0.8916\n",
            "Epoch 3/20\n",
            "30/30 [==============================] - 1s 33ms/step - loss: 0.2158 - accuracy: 0.9307 - val_loss: 0.2778 - val_accuracy: 0.8916\n",
            "Epoch 4/20\n",
            "30/30 [==============================] - 1s 33ms/step - loss: 0.1709 - accuracy: 0.9455 - val_loss: 0.2835 - val_accuracy: 0.8874\n",
            "Epoch 5/20\n",
            "30/30 [==============================] - 1s 33ms/step - loss: 0.1393 - accuracy: 0.9561 - val_loss: 0.2838 - val_accuracy: 0.8884\n",
            "Epoch 6/20\n",
            "30/30 [==============================] - 1s 33ms/step - loss: 0.1162 - accuracy: 0.9643 - val_loss: 0.2985 - val_accuracy: 0.8852\n",
            "Epoch 7/20\n",
            "30/30 [==============================] - 1s 34ms/step - loss: 0.0958 - accuracy: 0.9731 - val_loss: 0.3938 - val_accuracy: 0.8609\n",
            "Epoch 8/20\n",
            "30/30 [==============================] - 1s 33ms/step - loss: 0.0807 - accuracy: 0.9768 - val_loss: 0.3427 - val_accuracy: 0.8799\n",
            "Epoch 9/20\n",
            "30/30 [==============================] - 1s 33ms/step - loss: 0.0659 - accuracy: 0.9830 - val_loss: 0.3634 - val_accuracy: 0.8787\n",
            "Epoch 10/20\n",
            "30/30 [==============================] - 1s 33ms/step - loss: 0.0573 - accuracy: 0.9854 - val_loss: 0.3944 - val_accuracy: 0.8760\n",
            "Epoch 11/20\n",
            "30/30 [==============================] - 1s 33ms/step - loss: 0.0451 - accuracy: 0.9890 - val_loss: 0.4160 - val_accuracy: 0.8756\n",
            "Epoch 12/20\n",
            "30/30 [==============================] - 1s 34ms/step - loss: 0.0421 - accuracy: 0.9893 - val_loss: 0.4490 - val_accuracy: 0.8743\n",
            "Epoch 13/20\n",
            "30/30 [==============================] - 1s 33ms/step - loss: 0.0281 - accuracy: 0.9949 - val_loss: 0.4906 - val_accuracy: 0.8688\n",
            "Epoch 14/20\n",
            "30/30 [==============================] - 1s 34ms/step - loss: 0.0257 - accuracy: 0.9951 - val_loss: 0.5256 - val_accuracy: 0.8697\n",
            "Epoch 15/20\n",
            "30/30 [==============================] - 1s 34ms/step - loss: 0.0239 - accuracy: 0.9951 - val_loss: 0.5467 - val_accuracy: 0.8708\n",
            "Epoch 16/20\n",
            "30/30 [==============================] - 1s 34ms/step - loss: 0.0187 - accuracy: 0.9962 - val_loss: 0.5844 - val_accuracy: 0.8670\n",
            "Epoch 17/20\n",
            "30/30 [==============================] - 1s 33ms/step - loss: 0.0137 - accuracy: 0.9979 - val_loss: 0.6254 - val_accuracy: 0.8649\n",
            "Epoch 18/20\n",
            "30/30 [==============================] - 1s 33ms/step - loss: 0.0160 - accuracy: 0.9963 - val_loss: 0.6442 - val_accuracy: 0.8668\n",
            "Epoch 19/20\n",
            "30/30 [==============================] - 1s 33ms/step - loss: 0.0073 - accuracy: 0.9991 - val_loss: 0.6682 - val_accuracy: 0.8658\n",
            "Epoch 20/20\n",
            "30/30 [==============================] - 1s 33ms/step - loss: 0.0121 - accuracy: 0.9971 - val_loss: 0.7164 - val_accuracy: 0.8635\n"
          ]
        }
      ],
      "source": [
        "from tensorflow.keras.datasets import imdb\n",
        "(train_data, train_labels), _ = imdb.load_data(num_words=10000)\n",
        "\n",
        "def vectorize_sequences(sequences, dimension=10000):\n",
        "    results = np.zeros((len(sequences), dimension))\n",
        "    for i, sequence in enumerate(sequences):\n",
        "        results[i, sequence] = 1.\n",
        "    return results\n",
        "train_data = vectorize_sequences(train_data)\n",
        "\n",
        "model = keras.Sequential([\n",
        "    layers.Dense(16, activation=\"relu\"),\n",
        "    layers.Dense(16, activation=\"relu\"),\n",
        "    layers.Dense(1, activation=\"sigmoid\")\n",
        "])\n",
        "model.compile(optimizer=\"rmsprop\",\n",
        "              loss=\"binary_crossentropy\",\n",
        "              metrics=[\"accuracy\"])\n",
        "history_original = model.fit(train_data, train_labels,\n",
        "                             epochs=20, batch_size=512, validation_split=0.4)"
      ]
    },
    {
      "cell_type": "markdown",
      "metadata": {
        "id": "2do3HvTxULhc"
      },
      "source": [
        "**Version of the model with lower capacity**"
      ]
    },
    {
      "cell_type": "code",
      "execution_count": 11,
      "metadata": {
        "id": "joCCK2r5ULhc",
        "colab": {
          "base_uri": "https://localhost:8080/"
        },
        "outputId": "418aec0b-eaec-450b-84a4-272eaa655b3e"
      },
      "outputs": [
        {
          "output_type": "stream",
          "name": "stdout",
          "text": [
            "Epoch 1/10\n",
            "30/30 [==============================] - 2s 43ms/step - loss: 0.6197 - accuracy: 0.6451 - val_loss: 0.5657 - val_accuracy: 0.7537\n",
            "Epoch 2/10\n",
            "30/30 [==============================] - 1s 32ms/step - loss: 0.5237 - accuracy: 0.7750 - val_loss: 0.5202 - val_accuracy: 0.7950\n",
            "Epoch 3/10\n",
            "30/30 [==============================] - 1s 31ms/step - loss: 0.4756 - accuracy: 0.8493 - val_loss: 0.4961 - val_accuracy: 0.8259\n",
            "Epoch 4/10\n",
            "30/30 [==============================] - 1s 31ms/step - loss: 0.4407 - accuracy: 0.8858 - val_loss: 0.4779 - val_accuracy: 0.8661\n",
            "Epoch 5/10\n",
            "30/30 [==============================] - 1s 31ms/step - loss: 0.4147 - accuracy: 0.9129 - val_loss: 0.4674 - val_accuracy: 0.8737\n",
            "Epoch 6/10\n",
            "30/30 [==============================] - 1s 30ms/step - loss: 0.3928 - accuracy: 0.9288 - val_loss: 0.4667 - val_accuracy: 0.8638\n",
            "Epoch 7/10\n",
            "30/30 [==============================] - 1s 30ms/step - loss: 0.3737 - accuracy: 0.9419 - val_loss: 0.4574 - val_accuracy: 0.8762\n",
            "Epoch 8/10\n",
            "30/30 [==============================] - 1s 31ms/step - loss: 0.3571 - accuracy: 0.9523 - val_loss: 0.4628 - val_accuracy: 0.8700\n",
            "Epoch 9/10\n",
            "30/30 [==============================] - 1s 30ms/step - loss: 0.3433 - accuracy: 0.9581 - val_loss: 0.4606 - val_accuracy: 0.8723\n",
            "Epoch 10/10\n",
            "30/30 [==============================] - 1s 30ms/step - loss: 0.3298 - accuracy: 0.9634 - val_loss: 0.4729 - val_accuracy: 0.8665\n"
          ]
        }
      ],
      "source": [
        "model = keras.Sequential([\n",
        "    layers.Dense(4, activation=\"relu\"),\n",
        "    layers.Dense(4, activation=\"relu\"),\n",
        "    layers.Dense(1, activation=\"sigmoid\")\n",
        "])\n",
        "model.compile(optimizer=\"rmsprop\",\n",
        "              loss=\"binary_crossentropy\",\n",
        "              metrics=[\"accuracy\"])\n",
        "history_smaller_model = model.fit(\n",
        "    train_data, train_labels,\n",
        "    epochs=10, batch_size=512, validation_split=0.4)"
      ]
    },
    {
      "cell_type": "markdown",
      "metadata": {
        "id": "IjjmNpjXULhc"
      },
      "source": [
        "**Version of the model with higher capacity**"
      ]
    },
    {
      "cell_type": "code",
      "execution_count": 12,
      "metadata": {
        "id": "pZ9E_pHWULhc",
        "colab": {
          "base_uri": "https://localhost:8080/"
        },
        "outputId": "2c4a8883-60d1-4edd-a9b3-7aff318fbdd5"
      },
      "outputs": [
        {
          "output_type": "stream",
          "name": "stdout",
          "text": [
            "Epoch 1/20\n",
            "30/30 [==============================] - 10s 302ms/step - loss: 0.5580 - accuracy: 0.7455 - val_loss: 0.3186 - val_accuracy: 0.8855\n",
            "Epoch 2/20\n",
            "30/30 [==============================] - 9s 292ms/step - loss: 0.2498 - accuracy: 0.9039 - val_loss: 0.2896 - val_accuracy: 0.8834\n",
            "Epoch 3/20\n",
            "30/30 [==============================] - 9s 295ms/step - loss: 0.1469 - accuracy: 0.9491 - val_loss: 0.3058 - val_accuracy: 0.8906\n",
            "Epoch 4/20\n",
            "30/30 [==============================] - 9s 293ms/step - loss: 0.0671 - accuracy: 0.9755 - val_loss: 0.4166 - val_accuracy: 0.8810\n",
            "Epoch 5/20\n",
            "30/30 [==============================] - 9s 291ms/step - loss: 0.1191 - accuracy: 0.9778 - val_loss: 0.3421 - val_accuracy: 0.8909\n",
            "Epoch 6/20\n",
            "30/30 [==============================] - 9s 291ms/step - loss: 0.0041 - accuracy: 0.9999 - val_loss: 0.5083 - val_accuracy: 0.8894\n",
            "Epoch 7/20\n",
            "30/30 [==============================] - 9s 290ms/step - loss: 5.4467e-04 - accuracy: 1.0000 - val_loss: 0.6386 - val_accuracy: 0.8892\n",
            "Epoch 8/20\n",
            "30/30 [==============================] - 9s 290ms/step - loss: 0.2541 - accuracy: 0.9803 - val_loss: 0.7895 - val_accuracy: 0.8512\n",
            "Epoch 9/20\n",
            "30/30 [==============================] - 9s 290ms/step - loss: 0.0015 - accuracy: 0.9999 - val_loss: 0.5598 - val_accuracy: 0.8894\n",
            "Epoch 10/20\n",
            "30/30 [==============================] - 9s 290ms/step - loss: 1.6400e-04 - accuracy: 1.0000 - val_loss: 0.6466 - val_accuracy: 0.8875\n",
            "Epoch 11/20\n",
            "30/30 [==============================] - 9s 289ms/step - loss: 5.6169e-05 - accuracy: 1.0000 - val_loss: 0.7428 - val_accuracy: 0.8861\n",
            "Epoch 12/20\n",
            "30/30 [==============================] - 9s 291ms/step - loss: 1.7208e-05 - accuracy: 1.0000 - val_loss: 0.8007 - val_accuracy: 0.8874\n",
            "Epoch 13/20\n",
            "30/30 [==============================] - 9s 290ms/step - loss: 4.9534e-06 - accuracy: 1.0000 - val_loss: 0.8959 - val_accuracy: 0.8872\n",
            "Epoch 14/20\n",
            "30/30 [==============================] - 10s 323ms/step - loss: 1.4648e-06 - accuracy: 1.0000 - val_loss: 0.9834 - val_accuracy: 0.8869\n",
            "Epoch 15/20\n",
            "30/30 [==============================] - 9s 298ms/step - loss: 4.7837e-07 - accuracy: 1.0000 - val_loss: 1.0550 - val_accuracy: 0.8876\n",
            "Epoch 16/20\n",
            "30/30 [==============================] - 9s 290ms/step - loss: 1.7132e-07 - accuracy: 1.0000 - val_loss: 1.1214 - val_accuracy: 0.8869\n",
            "Epoch 17/20\n",
            "30/30 [==============================] - 9s 290ms/step - loss: 7.2696e-08 - accuracy: 1.0000 - val_loss: 1.1807 - val_accuracy: 0.8870\n",
            "Epoch 18/20\n",
            "30/30 [==============================] - 9s 289ms/step - loss: 3.6379e-08 - accuracy: 1.0000 - val_loss: 1.2222 - val_accuracy: 0.8867\n",
            "Epoch 19/20\n",
            "30/30 [==============================] - 9s 290ms/step - loss: 2.2441e-08 - accuracy: 1.0000 - val_loss: 1.2495 - val_accuracy: 0.8868\n",
            "Epoch 20/20\n",
            "30/30 [==============================] - 9s 289ms/step - loss: 1.5990e-08 - accuracy: 1.0000 - val_loss: 1.2678 - val_accuracy: 0.8863\n"
          ]
        }
      ],
      "source": [
        "model = keras.Sequential([\n",
        "    layers.Dense(512, activation=\"relu\"),\n",
        "    layers.Dense(512, activation=\"relu\"),\n",
        "    layers.Dense(1, activation=\"sigmoid\")\n",
        "])\n",
        "model.compile(optimizer=\"rmsprop\",\n",
        "              loss=\"binary_crossentropy\",\n",
        "              metrics=[\"accuracy\"])\n",
        "history_larger_model = model.fit(\n",
        "    train_data, train_labels,\n",
        "    epochs=20, batch_size=512, validation_split=0.4)"
      ]
    },
    {
      "cell_type": "markdown",
      "metadata": {
        "id": "JGxZO6zzULhd"
      },
      "source": [
        "#### Adding weight regularization"
      ]
    },
    {
      "cell_type": "markdown",
      "metadata": {
        "id": "aV2ArNxwULhd"
      },
      "source": [
        "**Adding L2 weight regularization to the model**"
      ]
    },
    {
      "cell_type": "code",
      "execution_count": 13,
      "metadata": {
        "id": "D8bvUWSYULhd",
        "colab": {
          "base_uri": "https://localhost:8080/"
        },
        "outputId": "129654e8-cfa2-4834-e3dd-f35719edf55a"
      },
      "outputs": [
        {
          "output_type": "stream",
          "name": "stdout",
          "text": [
            "Epoch 1/20\n",
            "30/30 [==============================] - 2s 43ms/step - loss: 0.5833 - accuracy: 0.7857 - val_loss: 0.4632 - val_accuracy: 0.8554\n",
            "Epoch 2/20\n",
            "30/30 [==============================] - 1s 34ms/step - loss: 0.3883 - accuracy: 0.8931 - val_loss: 0.3999 - val_accuracy: 0.8721\n",
            "Epoch 3/20\n",
            "30/30 [==============================] - 1s 35ms/step - loss: 0.3241 - accuracy: 0.9171 - val_loss: 0.3710 - val_accuracy: 0.8824\n",
            "Epoch 4/20\n",
            "30/30 [==============================] - 1s 34ms/step - loss: 0.2939 - accuracy: 0.9250 - val_loss: 0.3688 - val_accuracy: 0.8803\n",
            "Epoch 5/20\n",
            "30/30 [==============================] - 1s 34ms/step - loss: 0.2742 - accuracy: 0.9341 - val_loss: 0.3883 - val_accuracy: 0.8721\n",
            "Epoch 6/20\n",
            "30/30 [==============================] - 1s 34ms/step - loss: 0.2610 - accuracy: 0.9379 - val_loss: 0.3603 - val_accuracy: 0.8865\n",
            "Epoch 7/20\n",
            "30/30 [==============================] - 1s 34ms/step - loss: 0.2529 - accuracy: 0.9396 - val_loss: 0.3743 - val_accuracy: 0.8796\n",
            "Epoch 8/20\n",
            "30/30 [==============================] - 1s 34ms/step - loss: 0.2421 - accuracy: 0.9453 - val_loss: 0.4280 - val_accuracy: 0.8635\n",
            "Epoch 9/20\n",
            "30/30 [==============================] - 1s 34ms/step - loss: 0.2402 - accuracy: 0.9458 - val_loss: 0.4005 - val_accuracy: 0.8747\n",
            "Epoch 10/20\n",
            "30/30 [==============================] - 1s 34ms/step - loss: 0.2333 - accuracy: 0.9477 - val_loss: 0.3864 - val_accuracy: 0.8795\n",
            "Epoch 11/20\n",
            "30/30 [==============================] - 1s 34ms/step - loss: 0.2263 - accuracy: 0.9497 - val_loss: 0.3999 - val_accuracy: 0.8749\n",
            "Epoch 12/20\n",
            "30/30 [==============================] - 1s 34ms/step - loss: 0.2238 - accuracy: 0.9518 - val_loss: 0.3852 - val_accuracy: 0.8786\n",
            "Epoch 13/20\n",
            "30/30 [==============================] - 1s 35ms/step - loss: 0.2218 - accuracy: 0.9529 - val_loss: 0.3876 - val_accuracy: 0.8781\n",
            "Epoch 14/20\n",
            "30/30 [==============================] - 1s 34ms/step - loss: 0.2103 - accuracy: 0.9580 - val_loss: 0.4436 - val_accuracy: 0.8601\n",
            "Epoch 15/20\n",
            "30/30 [==============================] - 1s 37ms/step - loss: 0.2184 - accuracy: 0.9525 - val_loss: 0.4384 - val_accuracy: 0.8635\n",
            "Epoch 16/20\n",
            "30/30 [==============================] - 1s 34ms/step - loss: 0.2088 - accuracy: 0.9580 - val_loss: 0.3996 - val_accuracy: 0.8780\n",
            "Epoch 17/20\n",
            "30/30 [==============================] - 1s 34ms/step - loss: 0.2082 - accuracy: 0.9570 - val_loss: 0.4143 - val_accuracy: 0.8739\n",
            "Epoch 18/20\n",
            "30/30 [==============================] - 1s 34ms/step - loss: 0.2075 - accuracy: 0.9570 - val_loss: 0.4238 - val_accuracy: 0.8729\n",
            "Epoch 19/20\n",
            "30/30 [==============================] - 1s 34ms/step - loss: 0.2030 - accuracy: 0.9584 - val_loss: 0.4223 - val_accuracy: 0.8736\n",
            "Epoch 20/20\n",
            "30/30 [==============================] - 1s 34ms/step - loss: 0.2015 - accuracy: 0.9595 - val_loss: 0.4324 - val_accuracy: 0.8707\n"
          ]
        }
      ],
      "source": [
        "from tensorflow.keras import regularizers\n",
        "model = keras.Sequential([\n",
        "    layers.Dense(16,\n",
        "                 kernel_regularizer=regularizers.l2(0.002),\n",
        "                 activation=\"relu\"),\n",
        "    layers.Dense(16,\n",
        "                 kernel_regularizer=regularizers.l2(0.002),\n",
        "                 activation=\"relu\"),\n",
        "    layers.Dense(1, activation=\"sigmoid\")\n",
        "])\n",
        "model.compile(optimizer=\"rmsprop\",\n",
        "              loss=\"binary_crossentropy\",\n",
        "              metrics=[\"accuracy\"])\n",
        "history_l2_reg = model.fit(\n",
        "    train_data, train_labels,\n",
        "    epochs=20, batch_size=512, validation_split=0.4)"
      ]
    },
    {
      "cell_type": "markdown",
      "metadata": {
        "id": "4aw5HeUdULhd"
      },
      "source": [
        "**Different weight regularizers available in Keras**"
      ]
    },
    {
      "cell_type": "code",
      "execution_count": 14,
      "metadata": {
        "id": "cDPZNaW6ULhd",
        "colab": {
          "base_uri": "https://localhost:8080/"
        },
        "outputId": "d71f3d11-a71e-4072-b61a-6597fb2a7cfd"
      },
      "outputs": [
        {
          "output_type": "execute_result",
          "data": {
            "text/plain": [
              "<keras.regularizers.L1L2 at 0x7fa313858f90>"
            ]
          },
          "metadata": {},
          "execution_count": 14
        }
      ],
      "source": [
        "from tensorflow.keras import regularizers\n",
        "regularizers.l1(0.001)\n",
        "regularizers.l1_l2(l1=0.001, l2=0.001)"
      ]
    },
    {
      "cell_type": "markdown",
      "metadata": {
        "id": "O3tVdNMLULhd"
      },
      "source": [
        "#### Adding dropout"
      ]
    },
    {
      "cell_type": "markdown",
      "metadata": {
        "id": "GG01GhOoULhd"
      },
      "source": [
        "**Adding dropout to the IMDB model**"
      ]
    },
    {
      "cell_type": "code",
      "execution_count": 15,
      "metadata": {
        "id": "O2m5xeC4ULhe",
        "colab": {
          "base_uri": "https://localhost:8080/"
        },
        "outputId": "94512d17-05f7-4c6d-abd8-a0545389bc8f"
      },
      "outputs": [
        {
          "output_type": "stream",
          "name": "stdout",
          "text": [
            "Epoch 1/20\n",
            "30/30 [==============================] - 2s 42ms/step - loss: 0.6274 - accuracy: 0.6449 - val_loss: 0.5210 - val_accuracy: 0.8420\n",
            "Epoch 2/20\n",
            "30/30 [==============================] - 1s 34ms/step - loss: 0.5029 - accuracy: 0.7736 - val_loss: 0.4132 - val_accuracy: 0.8567\n",
            "Epoch 3/20\n",
            "30/30 [==============================] - 1s 33ms/step - loss: 0.4141 - accuracy: 0.8321 - val_loss: 0.3399 - val_accuracy: 0.8814\n",
            "Epoch 4/20\n",
            "30/30 [==============================] - 1s 34ms/step - loss: 0.3608 - accuracy: 0.8565 - val_loss: 0.3033 - val_accuracy: 0.8861\n",
            "Epoch 5/20\n",
            "30/30 [==============================] - 1s 34ms/step - loss: 0.3208 - accuracy: 0.8783 - val_loss: 0.2870 - val_accuracy: 0.8852\n",
            "Epoch 6/20\n",
            "30/30 [==============================] - 1s 48ms/step - loss: 0.2834 - accuracy: 0.8989 - val_loss: 0.2750 - val_accuracy: 0.8913\n",
            "Epoch 7/20\n",
            "30/30 [==============================] - 1s 47ms/step - loss: 0.2552 - accuracy: 0.9113 - val_loss: 0.2740 - val_accuracy: 0.8922\n",
            "Epoch 8/20\n",
            "30/30 [==============================] - 1s 36ms/step - loss: 0.2285 - accuracy: 0.9235 - val_loss: 0.2904 - val_accuracy: 0.8903\n",
            "Epoch 9/20\n",
            "30/30 [==============================] - 1s 34ms/step - loss: 0.2052 - accuracy: 0.9301 - val_loss: 0.2956 - val_accuracy: 0.8906\n",
            "Epoch 10/20\n",
            "30/30 [==============================] - 1s 33ms/step - loss: 0.1843 - accuracy: 0.9407 - val_loss: 0.3160 - val_accuracy: 0.8894\n",
            "Epoch 11/20\n",
            "30/30 [==============================] - 1s 33ms/step - loss: 0.1702 - accuracy: 0.9424 - val_loss: 0.3292 - val_accuracy: 0.8893\n",
            "Epoch 12/20\n",
            "30/30 [==============================] - 1s 34ms/step - loss: 0.1535 - accuracy: 0.9487 - val_loss: 0.3419 - val_accuracy: 0.8892\n",
            "Epoch 13/20\n",
            "30/30 [==============================] - 1s 34ms/step - loss: 0.1380 - accuracy: 0.9517 - val_loss: 0.3559 - val_accuracy: 0.8903\n",
            "Epoch 14/20\n",
            "30/30 [==============================] - 1s 33ms/step - loss: 0.1267 - accuracy: 0.9574 - val_loss: 0.4119 - val_accuracy: 0.8891\n",
            "Epoch 15/20\n",
            "30/30 [==============================] - 1s 34ms/step - loss: 0.1195 - accuracy: 0.9589 - val_loss: 0.4105 - val_accuracy: 0.8871\n",
            "Epoch 16/20\n",
            "30/30 [==============================] - 1s 34ms/step - loss: 0.1095 - accuracy: 0.9598 - val_loss: 0.4276 - val_accuracy: 0.8875\n",
            "Epoch 17/20\n",
            "30/30 [==============================] - 1s 33ms/step - loss: 0.1056 - accuracy: 0.9635 - val_loss: 0.4646 - val_accuracy: 0.8893\n",
            "Epoch 18/20\n",
            "30/30 [==============================] - 1s 34ms/step - loss: 0.1014 - accuracy: 0.9644 - val_loss: 0.4850 - val_accuracy: 0.8864\n",
            "Epoch 19/20\n",
            "30/30 [==============================] - 1s 34ms/step - loss: 0.0987 - accuracy: 0.9651 - val_loss: 0.5080 - val_accuracy: 0.8852\n",
            "Epoch 20/20\n",
            "30/30 [==============================] - 1s 33ms/step - loss: 0.0905 - accuracy: 0.9647 - val_loss: 0.5352 - val_accuracy: 0.8851\n"
          ]
        }
      ],
      "source": [
        "model = keras.Sequential([\n",
        "    layers.Dense(16, activation=\"relu\"),\n",
        "    layers.Dropout(0.5),\n",
        "    layers.Dense(16, activation=\"relu\"),\n",
        "    layers.Dropout(0.5),\n",
        "    layers.Dense(1, activation=\"sigmoid\")\n",
        "])\n",
        "model.compile(optimizer=\"rmsprop\",\n",
        "              loss=\"binary_crossentropy\",\n",
        "              metrics=[\"accuracy\"])\n",
        "history_dropout = model.fit(\n",
        "    train_data, train_labels,\n",
        "    epochs=20, batch_size=512, validation_split=0.4)"
      ]
    },
    {
      "cell_type": "markdown",
      "metadata": {
        "id": "IKQy5rswULhe"
      },
      "source": [
        "## Summary"
      ]
    }
  ],
  "metadata": {
    "colab": {
      "collapsed_sections": [],
      "provenance": [],
      "include_colab_link": true
    },
    "kernelspec": {
      "display_name": "Python 3",
      "language": "python",
      "name": "python3"
    },
    "language_info": {
      "codemirror_mode": {
        "name": "ipython",
        "version": 3
      },
      "file_extension": ".py",
      "mimetype": "text/x-python",
      "name": "python",
      "nbconvert_exporter": "python",
      "pygments_lexer": "ipython3",
      "version": "3.7.0"
    }
  },
  "nbformat": 4,
  "nbformat_minor": 0
}